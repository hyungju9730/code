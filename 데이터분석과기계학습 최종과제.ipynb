{
 "cells": [
  {
   "cell_type": "markdown",
   "id": "2781084f",
   "metadata": {},
   "source": [
    "# 데이터 분석과 기계학습 - 201704235 이형주\n",
    "### 시계열 데이터를 사용하여 세 모델의 평가 지표를 통한  제주도 방문객 수요 예측 연구\n",
    "### 시계열 예측 모델인 ARIMA 모델\n",
    "### 딥러닝 기법인 LSTM 모델 \n",
    "### 페이스북에서 만든 시계열 예측 Library Prophet"
   ]
  },
  {
   "cell_type": "markdown",
   "id": "23e0cb1a",
   "metadata": {},
   "source": [
    "### 0. 사용 라이브러리 불러오기"
   ]
  },
  {
   "cell_type": "code",
   "execution_count": 28,
   "id": "a3601173",
   "metadata": {},
   "outputs": [],
   "source": [
    "import math\n",
    "import matplotlib.pyplot as plt\n",
    "import keras\n",
    "import pandas as pd\n",
    "import numpy as np\n",
    "import xgboost as xgb\n",
    "import seaborn as sns\n",
    "import statsmodels.tsa.seasonal as tsa\n",
    "from statsmodels.tsa.arima.model import ARIMA\n",
    "import statsmodels.api as sm\n",
    "from pmdarima import auto_arima\n",
    "from xgboost import plot_importance, plot_tree\n",
    "from xgboost import XGBClassifier\n",
    "from keras.models import Sequential\n",
    "from keras.layers import Dense\n",
    "from keras.layers import LSTM\n",
    "from keras.layers import Dropout\n",
    "from keras.layers import *\n",
    "from keras import backend as K\n",
    "from sklearn.metrics import r2_score\n",
    "from sklearn.preprocessing import MinMaxScaler\n",
    "from sklearn.preprocessing import StandardScaler\n",
    "from sklearn.metrics import mean_squared_error\n",
    "from sklearn.metrics import mean_absolute_error\n",
    "from sklearn.model_selection import train_test_split\n",
    "from keras.callbacks import EarlyStopping\n",
    "from pmdarima.arima import ndiffs"
   ]
  },
  {
   "cell_type": "markdown",
   "id": "506d066e",
   "metadata": {},
   "source": [
    "### 1. 데이터 불러오기"
   ]
  },
  {
   "cell_type": "markdown",
   "id": "e259e672",
   "metadata": {},
   "source": [
    "### 데이터 출처:http://www.visitjeju.or.kr/main.do\n",
    "### 2001년부터 2021년까지 월 별로 정리된 제주도 입도 관광객 통계 데이터"
   ]
  },
  {
   "cell_type": "code",
   "execution_count": 12,
   "id": "8449ad14",
   "metadata": {},
   "outputs": [
    {
     "data": {
      "text/html": [
       "<div>\n",
       "<style scoped>\n",
       "    .dataframe tbody tr th:only-of-type {\n",
       "        vertical-align: middle;\n",
       "    }\n",
       "\n",
       "    .dataframe tbody tr th {\n",
       "        vertical-align: top;\n",
       "    }\n",
       "\n",
       "    .dataframe thead th {\n",
       "        text-align: right;\n",
       "    }\n",
       "</style>\n",
       "<table border=\"1\" class=\"dataframe\">\n",
       "  <thead>\n",
       "    <tr style=\"text-align: right;\">\n",
       "      <th></th>\n",
       "      <th>visitors</th>\n",
       "    </tr>\n",
       "  </thead>\n",
       "  <tbody>\n",
       "    <tr>\n",
       "      <th>0</th>\n",
       "      <td>305666</td>\n",
       "    </tr>\n",
       "    <tr>\n",
       "      <th>1</th>\n",
       "      <td>262896</td>\n",
       "    </tr>\n",
       "    <tr>\n",
       "      <th>2</th>\n",
       "      <td>297281</td>\n",
       "    </tr>\n",
       "    <tr>\n",
       "      <th>3</th>\n",
       "      <td>397188</td>\n",
       "    </tr>\n",
       "    <tr>\n",
       "      <th>4</th>\n",
       "      <td>431365</td>\n",
       "    </tr>\n",
       "    <tr>\n",
       "      <th>...</th>\n",
       "      <td>...</td>\n",
       "    </tr>\n",
       "    <tr>\n",
       "      <th>247</th>\n",
       "      <td>974194</td>\n",
       "    </tr>\n",
       "    <tr>\n",
       "      <th>248</th>\n",
       "      <td>872396</td>\n",
       "    </tr>\n",
       "    <tr>\n",
       "      <th>249</th>\n",
       "      <td>1222094</td>\n",
       "    </tr>\n",
       "    <tr>\n",
       "      <th>250</th>\n",
       "      <td>1204344</td>\n",
       "    </tr>\n",
       "    <tr>\n",
       "      <th>251</th>\n",
       "      <td>1090607</td>\n",
       "    </tr>\n",
       "  </tbody>\n",
       "</table>\n",
       "<p>252 rows × 1 columns</p>\n",
       "</div>"
      ],
      "text/plain": [
       "     visitors\n",
       "0      305666\n",
       "1      262896\n",
       "2      297281\n",
       "3      397188\n",
       "4      431365\n",
       "..        ...\n",
       "247    974194\n",
       "248    872396\n",
       "249   1222094\n",
       "250   1204344\n",
       "251   1090607\n",
       "\n",
       "[252 rows x 1 columns]"
      ]
     },
     "execution_count": 12,
     "metadata": {},
     "output_type": "execute_result"
    }
   ],
   "source": [
    "df = pd.read_csv('visitors.csv', encoding = 'utf-8')\n",
    "df"
   ]
  },
  {
   "cell_type": "code",
   "execution_count": 13,
   "id": "d05adb9d",
   "metadata": {},
   "outputs": [
    {
     "data": {
      "text/plain": [
       "DatetimeIndex(['2001-01-01', '2001-02-01', '2001-03-01', '2001-04-01',\n",
       "               '2001-05-01', '2001-06-01', '2001-07-01', '2001-08-01',\n",
       "               '2001-09-01', '2001-10-01',\n",
       "               ...\n",
       "               '2021-03-01', '2021-04-01', '2021-05-01', '2021-06-01',\n",
       "               '2021-07-01', '2021-08-01', '2021-09-01', '2021-10-01',\n",
       "               '2021-11-01', '2021-12-01'],\n",
       "              dtype='datetime64[ns]', length=252, freq='MS')"
      ]
     },
     "execution_count": 13,
     "metadata": {},
     "output_type": "execute_result"
    }
   ],
   "source": [
    "# 시계열 데이터로 만들기 위해 수집된 데이터의 범위인 2001년부터 2021년까지 1달 마다의 timestamp 객체 생성\n",
    "series_ts  = pd.date_range(\"2001-1\", \"2021-12\", freq=\"MS\")\n",
    "series_ts"
   ]
  },
  {
   "cell_type": "code",
   "execution_count": 14,
   "id": "be5aa31c",
   "metadata": {},
   "outputs": [],
   "source": [
    "# date time 으로 만든 객체를 데이터 프레임에 insert 한다.\n",
    "df.insert(0, 'Date', series_ts)"
   ]
  },
  {
   "cell_type": "code",
   "execution_count": 15,
   "id": "5a0244eb",
   "metadata": {},
   "outputs": [
    {
     "data": {
      "text/html": [
       "<div>\n",
       "<style scoped>\n",
       "    .dataframe tbody tr th:only-of-type {\n",
       "        vertical-align: middle;\n",
       "    }\n",
       "\n",
       "    .dataframe tbody tr th {\n",
       "        vertical-align: top;\n",
       "    }\n",
       "\n",
       "    .dataframe thead th {\n",
       "        text-align: right;\n",
       "    }\n",
       "</style>\n",
       "<table border=\"1\" class=\"dataframe\">\n",
       "  <thead>\n",
       "    <tr style=\"text-align: right;\">\n",
       "      <th></th>\n",
       "      <th>Date</th>\n",
       "      <th>visitors</th>\n",
       "    </tr>\n",
       "  </thead>\n",
       "  <tbody>\n",
       "    <tr>\n",
       "      <th>0</th>\n",
       "      <td>2001-01-01</td>\n",
       "      <td>305666</td>\n",
       "    </tr>\n",
       "    <tr>\n",
       "      <th>1</th>\n",
       "      <td>2001-02-01</td>\n",
       "      <td>262896</td>\n",
       "    </tr>\n",
       "    <tr>\n",
       "      <th>2</th>\n",
       "      <td>2001-03-01</td>\n",
       "      <td>297281</td>\n",
       "    </tr>\n",
       "    <tr>\n",
       "      <th>3</th>\n",
       "      <td>2001-04-01</td>\n",
       "      <td>397188</td>\n",
       "    </tr>\n",
       "    <tr>\n",
       "      <th>4</th>\n",
       "      <td>2001-05-01</td>\n",
       "      <td>431365</td>\n",
       "    </tr>\n",
       "  </tbody>\n",
       "</table>\n",
       "</div>"
      ],
      "text/plain": [
       "        Date  visitors\n",
       "0 2001-01-01    305666\n",
       "1 2001-02-01    262896\n",
       "2 2001-03-01    297281\n",
       "3 2001-04-01    397188\n",
       "4 2001-05-01    431365"
      ]
     },
     "execution_count": 15,
     "metadata": {},
     "output_type": "execute_result"
    }
   ],
   "source": [
    "df.head()"
   ]
  },
  {
   "cell_type": "code",
   "execution_count": 16,
   "id": "9b8bbdf9",
   "metadata": {
    "scrolled": true
   },
   "outputs": [
    {
     "name": "stdout",
     "output_type": "stream",
     "text": [
      "<class 'pandas.core.frame.DataFrame'>\n",
      "RangeIndex: 252 entries, 0 to 251\n",
      "Data columns (total 2 columns):\n",
      " #   Column    Non-Null Count  Dtype         \n",
      "---  ------    --------------  -----         \n",
      " 0   Date      252 non-null    datetime64[ns]\n",
      " 1   visitors  252 non-null    int64         \n",
      "dtypes: datetime64[ns](1), int64(1)\n",
      "memory usage: 4.1 KB\n"
     ]
    }
   ],
   "source": [
    "df.info()"
   ]
  },
  {
   "cell_type": "markdown",
   "id": "0818999a",
   "metadata": {},
   "source": [
    "## 2. 데이터 EDA 및 전처리"
   ]
  },
  {
   "cell_type": "markdown",
   "id": "237f79c4",
   "metadata": {},
   "source": [
    "## [ 시계열 데이터의 특징 ]\n",
    "\n",
    "\n",
    "동일한/ 고정된 간격의 날짜-시간 index \n",
    "\n",
    "중복 없고, 빠진 것도 없는 날짜-시간 index \n",
    "\n",
    "시간 순서대로 정렬 "
   ]
  },
  {
   "cell_type": "code",
   "execution_count": 17,
   "id": "e46655a9",
   "metadata": {},
   "outputs": [
    {
     "data": {
      "text/html": [
       "<div>\n",
       "<style scoped>\n",
       "    .dataframe tbody tr th:only-of-type {\n",
       "        vertical-align: middle;\n",
       "    }\n",
       "\n",
       "    .dataframe tbody tr th {\n",
       "        vertical-align: top;\n",
       "    }\n",
       "\n",
       "    .dataframe thead th {\n",
       "        text-align: right;\n",
       "    }\n",
       "</style>\n",
       "<table border=\"1\" class=\"dataframe\">\n",
       "  <thead>\n",
       "    <tr style=\"text-align: right;\">\n",
       "      <th></th>\n",
       "      <th>visitors</th>\n",
       "    </tr>\n",
       "    <tr>\n",
       "      <th>Date</th>\n",
       "      <th></th>\n",
       "    </tr>\n",
       "  </thead>\n",
       "  <tbody>\n",
       "    <tr>\n",
       "      <th>2001-01-01</th>\n",
       "      <td>305666</td>\n",
       "    </tr>\n",
       "    <tr>\n",
       "      <th>2001-02-01</th>\n",
       "      <td>262896</td>\n",
       "    </tr>\n",
       "    <tr>\n",
       "      <th>2001-03-01</th>\n",
       "      <td>297281</td>\n",
       "    </tr>\n",
       "    <tr>\n",
       "      <th>2001-04-01</th>\n",
       "      <td>397188</td>\n",
       "    </tr>\n",
       "    <tr>\n",
       "      <th>2001-05-01</th>\n",
       "      <td>431365</td>\n",
       "    </tr>\n",
       "  </tbody>\n",
       "</table>\n",
       "</div>"
      ],
      "text/plain": [
       "            visitors\n",
       "Date                \n",
       "2001-01-01    305666\n",
       "2001-02-01    262896\n",
       "2001-03-01    297281\n",
       "2001-04-01    397188\n",
       "2001-05-01    431365"
      ]
     },
     "execution_count": 17,
     "metadata": {},
     "output_type": "execute_result"
    }
   ],
   "source": [
    "df.index = df['Date']\n",
    "df.set_index('Date', inplace = True)\n",
    "df.head()"
   ]
  },
  {
   "cell_type": "code",
   "execution_count": 9,
   "id": "0c894b16",
   "metadata": {},
   "outputs": [
    {
     "name": "stdout",
     "output_type": "stream",
     "text": [
      "<class 'pandas.core.frame.DataFrame'>\n",
      "DatetimeIndex: 252 entries, 2001-01-01 to 2021-12-01\n",
      "Data columns (total 1 columns):\n",
      " #   Column    Non-Null Count  Dtype\n",
      "---  ------    --------------  -----\n",
      " 0   visitors  252 non-null    int64\n",
      "dtypes: int64(1)\n",
      "memory usage: 3.9 KB\n"
     ]
    }
   ],
   "source": [
    "df.info()"
   ]
  },
  {
   "cell_type": "code",
   "execution_count": 9,
   "id": "24abd489",
   "metadata": {
    "scrolled": false
   },
   "outputs": [
    {
     "data": {
      "image/png": "[encoded data removed]",
      "text/plain": [
       "<Figure size 432x288 with 1 Axes>"
      ]
     },
     "metadata": {
      "needs_background": "light"
     },
     "output_type": "display_data"
    }
   ],
   "source": [
    "df.plot()\n",
    "plt.show()\n"
   ]
  },
  {
   "cell_type": "markdown",
   "id": "1ced9b95",
   "metadata": {},
   "source": [
    "* 시계열 분해\n",
    "     - Trend: 데이터가 장기적으로 증가하거나 감소할 때, 추세(trend) 가 존재한다.\n",
    "     - Seasonality: 해마다 어떤 특정한 때나 1주일마다 특정 요일에 나타나는 것 같은 계절성 요인이 시계열에 영향을 줄 때 계절(seasonality) 패턴이 나타난다.\n",
    "     - Residiual: 고정된 빈도가 아닌 형태로 증가나 감소하는 모습을 보일 때 주기(cycle)가 나타납니다."
   ]
  },
  {
   "cell_type": "code",
   "execution_count": 10,
   "id": "2cf76718",
   "metadata": {
    "scrolled": true
   },
   "outputs": [
    {
     "data": {
      "image/png": "[encoded data removed]",
      "text/plain": [
       "<Figure size 432x288 with 4 Axes>"
      ]
     },
     "metadata": {
      "needs_background": "light"
     },
     "output_type": "display_data"
    }
   ],
   "source": [
    "#시계열 모델 생성\n",
    "model_series = tsa.seasonal_decompose(df, model = 'additive')\n",
    "#모델 시각화\n",
    "fig = model_series.plot()\n",
    "plt.show()"
   ]
  },
  {
   "cell_type": "markdown",
   "id": "4552230c",
   "metadata": {},
   "source": [
    "## 3. 모델 생성 및 검증"
   ]
  },
  {
   "cell_type": "markdown",
   "id": "2bf6ab3f",
   "metadata": {},
   "source": [
    "### 1) ARIMA 모델\n",
    "\n",
    "#### 시계열 데이터 기반 분석 기법\n",
    "과거 지식이나 경험을 바탕으로 한 행동에 따라 데이터가 움직이고 있음을 기초로 한다."
   ]
  },
  {
   "cell_type": "code",
   "execution_count": 18,
   "id": "487e257b",
   "metadata": {
    "scrolled": true
   },
   "outputs": [
    {
     "data": {
      "text/plain": [
       "<AxesSubplot:xlabel='Date'>"
      ]
     },
     "execution_count": 18,
     "metadata": {},
     "output_type": "execute_result"
    },
    {
     "data": {
      "image/png": "[encoded data removed]",
      "text/plain": [
       "<Figure size 432x288 with 1 Axes>"
      ]
     },
     "metadata": {
      "needs_background": "light"
     },
     "output_type": "display_data"
    }
   ],
   "source": [
    "y_train = df['visitors'][:int(0.8*len(df))]\n",
    "y_test = df['visitors'][int(0.8*len(df)):]\n",
    "y_train.plot()\n",
    "y_test.plot()"
   ]
  },
  {
   "cell_type": "code",
   "execution_count": 29,
   "id": "f643abeb",
   "metadata": {},
   "outputs": [
    {
     "name": "stdout",
     "output_type": "stream",
     "text": [
      "추정된 차수 d = 1\n"
     ]
    }
   ],
   "source": [
    "kpss_diffs = ndiffs(y_train, alpha=0.05, test='kpss', max_d=6)\n",
    "adf_diffs = ndiffs(y_train, alpha=0.05, test='adf', max_d=6)\n",
    "n_diffs = max(adf_diffs, kpss_diffs)\n",
    "\n",
    "print(f\"추정된 차수 d = {n_diffs}\")"
   ]
  },
  {
   "cell_type": "code",
   "execution_count": 30,
   "id": "32cdceee",
   "metadata": {
    "scrolled": true
   },
   "outputs": [
    {
     "name": "stdout",
     "output_type": "stream",
     "text": [
      "Performing stepwise search to minimize aic\n",
      " ARIMA(2,1,2)(0,0,0)[0] intercept   : AIC=inf, Time=0.17 sec\n",
      " ARIMA(0,1,0)(0,0,0)[0] intercept   : AIC=5231.603, Time=0.02 sec\n",
      " ARIMA(1,1,0)(0,0,0)[0] intercept   : AIC=5218.281, Time=0.02 sec\n",
      " ARIMA(0,1,1)(0,0,0)[0] intercept   : AIC=5209.900, Time=0.04 sec\n",
      " ARIMA(0,1,0)(0,0,0)[0]             : AIC=5229.945, Time=0.18 sec\n",
      " ARIMA(1,1,1)(0,0,0)[0] intercept   : AIC=5202.901, Time=0.06 sec\n",
      " ARIMA(2,1,1)(0,0,0)[0] intercept   : AIC=5200.358, Time=0.05 sec\n",
      " ARIMA(2,1,0)(0,0,0)[0] intercept   : AIC=5202.902, Time=0.03 sec\n",
      " ARIMA(3,1,1)(0,0,0)[0] intercept   : AIC=5200.752, Time=0.08 sec\n",
      " ARIMA(1,1,2)(0,0,0)[0] intercept   : AIC=5198.010, Time=0.09 sec\n",
      " ARIMA(0,1,2)(0,0,0)[0] intercept   : AIC=5197.420, Time=0.04 sec\n",
      " ARIMA(0,1,3)(0,0,0)[0] intercept   : AIC=5201.033, Time=0.07 sec\n",
      " ARIMA(1,1,3)(0,0,0)[0] intercept   : AIC=5180.103, Time=0.23 sec\n",
      " ARIMA(2,1,3)(0,0,0)[0] intercept   : AIC=inf, Time=0.36 sec\n",
      " ARIMA(1,1,4)(0,0,0)[0] intercept   : AIC=5211.614, Time=0.11 sec\n",
      " ARIMA(0,1,4)(0,0,0)[0] intercept   : AIC=5213.629, Time=0.07 sec\n",
      " ARIMA(2,1,4)(0,0,0)[0] intercept   : AIC=inf, Time=0.43 sec\n",
      " ARIMA(1,1,3)(0,0,0)[0]             : AIC=5203.825, Time=0.10 sec\n",
      "\n",
      "Best model:  ARIMA(1,1,3)(0,0,0)[0] intercept\n",
      "Total fit time: 2.167 seconds\n"
     ]
    },
    {
     "data": {
      "text/plain": [
       "ARIMA(order=(1, 1, 3), scoring_args={}, suppress_warnings=True)"
      ]
     },
     "execution_count": 30,
     "metadata": {},
     "output_type": "execute_result"
    }
   ],
   "source": [
    "import pmdarima as pm\n",
    "# ARIMA 모델 생성\n",
    "model = pm.auto_arima (y_train, d = 1, seasonal = False, trace = True)\n",
    "model.fit(y_train)"
   ]
  },
  {
   "cell_type": "code",
   "execution_count": 20,
   "id": "17fbbc2e",
   "metadata": {},
   "outputs": [
    {
     "name": "stdout",
     "output_type": "stream",
     "text": [
      "                               SARIMAX Results                                \n",
      "==============================================================================\n",
      "Dep. Variable:                      y   No. Observations:                  201\n",
      "Model:               SARIMAX(1, 1, 3)   Log Likelihood               -2584.052\n",
      "Date:                Mon, 12 Dec 2022   AIC                           5180.103\n",
      "Time:                        18:28:35   BIC                           5199.893\n",
      "Sample:                    01-01-2001   HQIC                          5188.112\n",
      "                         - 09-01-2017                                         \n",
      "Covariance Type:                  opg                                         \n",
      "==============================================================================\n",
      "                 coef    std err          z      P>|z|      [0.025      0.975]\n",
      "------------------------------------------------------------------------------\n",
      "intercept   8785.7994   3625.220      2.424      0.015    1680.499    1.59e+04\n",
      "ar.L1         -0.9981      0.005   -210.289      0.000      -1.007      -0.989\n",
      "ma.L1          0.9243      0.061     15.088      0.000       0.804       1.044\n",
      "ma.L2         -0.8185      0.071    -11.458      0.000      -0.958      -0.678\n",
      "ma.L3         -0.7580      0.064    -11.916      0.000      -0.883      -0.633\n",
      "sigma2      1.156e+10      0.001   1.29e+13      0.000    1.16e+10    1.16e+10\n",
      "===================================================================================\n",
      "Ljung-Box (L1) (Q):                   6.72   Jarque-Bera (JB):                 1.17\n",
      "Prob(Q):                              0.01   Prob(JB):                         0.56\n",
      "Heteroskedasticity (H):               1.74   Skew:                             0.01\n",
      "Prob(H) (two-sided):                  0.03   Kurtosis:                         2.63\n",
      "===================================================================================\n",
      "\n",
      "Warnings:\n",
      "[1] Covariance matrix calculated using the outer product of gradients (complex-step).\n",
      "[2] Covariance matrix is singular or near-singular, with condition number 1.25e+29. Standard errors may be unstable.\n"
     ]
    }
   ],
   "source": [
    "print(model.summary())"
   ]
  },
  {
   "cell_type": "code",
   "execution_count": 21,
   "id": "911932fa",
   "metadata": {
    "scrolled": true
   },
   "outputs": [
    {
     "data": {
      "image/png": "[encoded data removed]",
      "text/plain": [
       "<Figure size 1152x576 with 4 Axes>"
      ]
     },
     "metadata": {
      "needs_background": "light"
     },
     "output_type": "display_data"
    }
   ],
   "source": [
    "model.plot_diagnostics(figsize=(16, 8))\n",
    "plt.show()"
   ]
  },
  {
   "cell_type": "code",
   "execution_count": 22,
   "id": "c4f9038a",
   "metadata": {},
   "outputs": [],
   "source": [
    "def forecast_one_step():\n",
    "    fc, conf_int = model.predict(n_periods=1 \n",
    "        , return_conf_int=True)              \n",
    "    return (\n",
    "        fc.tolist()[0],\n",
    "        np.asarray(conf_int).tolist()[0]\n",
    "    )"
   ]
  },
  {
   "cell_type": "code",
   "execution_count": 23,
   "id": "00d556df",
   "metadata": {},
   "outputs": [],
   "source": [
    "forecasts = []\n",
    "y_pred = []\n",
    "pred_upper = []\n",
    "pred_lower = []\n",
    "\n",
    "for new_ob in y_test:\n",
    "    fc, conf = forecast_one_step()\n",
    "    y_pred.append(fc)\n",
    "    pred_upper.append(conf[1])\n",
    "    pred_lower.append(conf[0])\n",
    "\n",
    "    ## 모형 업데이트 !!\n",
    "    model.update(new_ob)"
   ]
  },
  {
   "cell_type": "code",
   "execution_count": 32,
   "id": "b4132aa4",
   "metadata": {},
   "outputs": [
    {
     "data": {
      "text/html": [
       "<div>\n",
       "<style scoped>\n",
       "    .dataframe tbody tr th:only-of-type {\n",
       "        vertical-align: middle;\n",
       "    }\n",
       "\n",
       "    .dataframe tbody tr th {\n",
       "        vertical-align: top;\n",
       "    }\n",
       "\n",
       "    .dataframe thead th {\n",
       "        text-align: right;\n",
       "    }\n",
       "</style>\n",
       "<table border=\"1\" class=\"dataframe\">\n",
       "  <thead>\n",
       "    <tr style=\"text-align: right;\">\n",
       "      <th></th>\n",
       "      <th>test</th>\n",
       "      <th>pred</th>\n",
       "    </tr>\n",
       "    <tr>\n",
       "      <th>Date</th>\n",
       "      <th></th>\n",
       "      <th></th>\n",
       "    </tr>\n",
       "  </thead>\n",
       "  <tbody>\n",
       "    <tr>\n",
       "      <th>2017-10-01</th>\n",
       "      <td>1299582</td>\n",
       "      <td>1.322528e+06</td>\n",
       "    </tr>\n",
       "    <tr>\n",
       "      <th>2017-11-01</th>\n",
       "      <td>1154632</td>\n",
       "      <td>1.272706e+06</td>\n",
       "    </tr>\n",
       "    <tr>\n",
       "      <th>2017-12-01</th>\n",
       "      <td>1106997</td>\n",
       "      <td>1.218310e+06</td>\n",
       "    </tr>\n",
       "    <tr>\n",
       "      <th>2018-01-01</th>\n",
       "      <td>1102378</td>\n",
       "      <td>1.174095e+06</td>\n",
       "    </tr>\n",
       "    <tr>\n",
       "      <th>2018-02-01</th>\n",
       "      <td>949909</td>\n",
       "      <td>1.229521e+06</td>\n",
       "    </tr>\n",
       "  </tbody>\n",
       "</table>\n",
       "</div>"
      ],
      "text/plain": [
       "               test          pred\n",
       "Date                             \n",
       "2017-10-01  1299582  1.322528e+06\n",
       "2017-11-01  1154632  1.272706e+06\n",
       "2017-12-01  1106997  1.218310e+06\n",
       "2018-01-01  1102378  1.174095e+06\n",
       "2018-02-01   949909  1.229521e+06"
      ]
     },
     "execution_count": 32,
     "metadata": {},
     "output_type": "execute_result"
    }
   ],
   "source": [
    "pd.DataFrame({\"test\": y_test, \"pred\": y_pred}).head()"
   ]
  },
  {
   "cell_type": "code",
   "execution_count": 26,
   "id": "03ab9f45",
   "metadata": {},
   "outputs": [
    {
     "data": {
      "application/vnd.plotly.v1+json": {
       "config": {
        "plotlyServerURL": "https://plot.ly"
       },
       "data": [
        {
         "line": {
          "color": "royalblue"
         },
         "mode": "lines",
         "name": "Train",
         "type": "scatter",
         "x": [
          "2001-01-01T00:00:00",
          "2001-02-01T00:00:00",
          "2001-03-01T00:00:00",
          "2001-04-01T00:00:00",
          "2001-05-01T00:00:00",
          "2001-06-01T00:00:00",
          "2001-07-01T00:00:00",
          "2001-08-01T00:00:00",
          "2001-09-01T00:00:00",
          "2001-10-01T00:00:00",
          "2001-11-01T00:00:00",
          "2001-12-01T00:00:00",
          "2002-01-01T00:00:00",
          "2002-02-01T00:00:00",
          "2002-03-01T00:00:00",
          "2002-04-01T00:00:00",
          "2002-05-01T00:00:00",
          "2002-06-01T00:00:00",
          "2002-07-01T00:00:00",
          "2002-08-01T00:00:00",
          "2002-09-01T00:00:00",
          "2002-10-01T00:00:00",
          "2002-11-01T00:00:00",
          "2002-12-01T00:00:00",
          "2003-01-01T00:00:00",
          "2003-02-01T00:00:00",
          "2003-03-01T00:00:00",
          "2003-04-01T00:00:00",
          "2003-05-01T00:00:00",
          "2003-06-01T00:00:00",
          "2003-07-01T00:00:00",
          "2003-08-01T00:00:00",
          "2003-09-01T00:00:00",
          "2003-10-01T00:00:00",
          "2003-11-01T00:00:00",
          "2003-12-01T00:00:00",
          "2004-01-01T00:00:00",
          "2004-02-01T00:00:00",
          "2004-03-01T00:00:00",
          "2004-04-01T00:00:00",
          "2004-05-01T00:00:00",
          "2004-06-01T00:00:00",
          "2004-07-01T00:00:00",
          "2004-08-01T00:00:00",
          "2004-09-01T00:00:00",
          "2004-10-01T00:00:00",
          "2004-11-01T00:00:00",
          "2004-12-01T00:00:00",
          "2005-01-01T00:00:00",
          "2005-02-01T00:00:00",
          "2005-03-01T00:00:00",
          "2005-04-01T00:00:00",
          "2005-05-01T00:00:00",
          "2005-06-01T00:00:00",
          "2005-07-01T00:00:00",
          "2005-08-01T00:00:00",
          "2005-09-01T00:00:00",
          "2005-10-01T00:00:00",
          "2005-11-01T00:00:00",
          "2005-12-01T00:00:00",
          "2006-01-01T00:00:00",
          "2006-02-01T00:00:00",
          "2006-03-01T00:00:00",
          "2006-04-01T00:00:00",
          "2006-05-01T00:00:00",
          "2006-06-01T00:00:00",
          "2006-07-01T00:00:00",
          "2006-08-01T00:00:00",
          "2006-09-01T00:00:00",
          "2006-10-01T00:00:00",
          "2006-11-01T00:00:00",
          "2006-12-01T00:00:00",
          "2007-01-01T00:00:00",
          "2007-02-01T00:00:00",
          "2007-03-01T00:00:00",
          "2007-04-01T00:00:00",
          "2007-05-01T00:00:00",
          "2007-06-01T00:00:00",
          "2007-07-01T00:00:00",
          "2007-08-01T00:00:00",
          "2007-09-01T00:00:00",
          "2007-10-01T00:00:00",
          "2007-11-01T00:00:00",
          "2007-12-01T00:00:00",
          "2008-01-01T00:00:00",
          "2008-02-01T00:00:00",
          "2008-03-01T00:00:00",
          "2008-04-01T00:00:00",
          "2008-05-01T00:00:00",
          "2008-06-01T00:00:00",
          "2008-07-01T00:00:00",
          "2008-08-01T00:00:00",
          "2008-09-01T00:00:00",
          "2008-10-01T00:00:00",
          "2008-11-01T00:00:00",
          "2008-12-01T00:00:00",
          "2009-01-01T00:00:00",
          "2009-02-01T00:00:00",
          "2009-03-01T00:00:00",
          "2009-04-01T00:00:00",
          "2009-05-01T00:00:00",
          "2009-06-01T00:00:00",
          "2009-07-01T00:00:00",
          "2009-08-01T00:00:00",
          "2009-09-01T00:00:00",
          "2009-10-01T00:00:00",
          "2009-11-01T00:00:00",
          "2009-12-01T00:00:00",
          "2010-01-01T00:00:00",
          "2010-02-01T00:00:00",
          "2010-03-01T00:00:00",
          "2010-04-01T00:00:00",
          "2010-05-01T00:00:00",
          "2010-06-01T00:00:00",
          "2010-07-01T00:00:00",
          "2010-08-01T00:00:00",
          "2010-09-01T00:00:00",
          "2010-10-01T00:00:00",
          "2010-11-01T00:00:00",
          "2010-12-01T00:00:00",
          "2011-01-01T00:00:00",
          "2011-02-01T00:00:00",
          "2011-03-01T00:00:00",
          "2011-04-01T00:00:00",
          "2011-05-01T00:00:00",
          "2011-06-01T00:00:00",
          "2011-07-01T00:00:00",
          "2011-08-01T00:00:00",
          "2011-09-01T00:00:00",
          "2011-10-01T00:00:00",
          "2011-11-01T00:00:00",
          "2011-12-01T00:00:00",
          "2012-01-01T00:00:00",
          "2012-02-01T00:00:00",
          "2012-03-01T00:00:00",
          "2012-04-01T00:00:00",
          "2012-05-01T00:00:00",
          "2012-06-01T00:00:00",
          "2012-07-01T00:00:00",
          "2012-08-01T00:00:00",
          "2012-09-01T00:00:00",
          "2012-10-01T00:00:00",
          "2012-11-01T00:00:00",
          "2012-12-01T00:00:00",
          "2013-01-01T00:00:00",
          "2013-02-01T00:00:00",
          "2013-03-01T00:00:00",
          "2013-04-01T00:00:00",
          "2013-05-01T00:00:00",
          "2013-06-01T00:00:00",
          "2013-07-01T00:00:00",
          "2013-08-01T00:00:00",
          "2013-09-01T00:00:00",
          "2013-10-01T00:00:00",
          "2013-11-01T00:00:00",
          "2013-12-01T00:00:00",
          "2014-01-01T00:00:00",
          "2014-02-01T00:00:00",
          "2014-03-01T00:00:00",
          "2014-04-01T00:00:00",
          "2014-05-01T00:00:00",
          "2014-06-01T00:00:00",
          "2014-07-01T00:00:00",
          "2014-08-01T00:00:00",
          "2014-09-01T00:00:00",
          "2014-10-01T00:00:00",
          "2014-11-01T00:00:00",
          "2014-12-01T00:00:00",
          "2015-01-01T00:00:00",
          "2015-02-01T00:00:00",
          "2015-03-01T00:00:00",
          "2015-04-01T00:00:00",
          "2015-05-01T00:00:00",
          "2015-06-01T00:00:00",
          "2015-07-01T00:00:00",
          "2015-08-01T00:00:00",
          "2015-09-01T00:00:00",
          "2015-10-01T00:00:00",
          "2015-11-01T00:00:00",
          "2015-12-01T00:00:00",
          "2016-01-01T00:00:00",
          "2016-02-01T00:00:00",
          "2016-03-01T00:00:00",
          "2016-04-01T00:00:00",
          "2016-05-01T00:00:00",
          "2016-06-01T00:00:00",
          "2016-07-01T00:00:00",
          "2016-08-01T00:00:00",
          "2016-09-01T00:00:00",
          "2016-10-01T00:00:00",
          "2016-11-01T00:00:00",
          "2016-12-01T00:00:00",
          "2017-01-01T00:00:00",
          "2017-02-01T00:00:00",
          "2017-03-01T00:00:00",
          "2017-04-01T00:00:00",
          "2017-05-01T00:00:00",
          "2017-06-01T00:00:00",
          "2017-07-01T00:00:00",
          "2017-08-01T00:00:00",
          "2017-09-01T00:00:00"
         ],
         "y": [
          305666,
          262896,
          297281,
          397188,
          431365,
          303233,
          380950,
          494305,
          279630,
          353708,
          351002,
          340350,
          332221,
          286319,
          347308,
          463477,
          424607,
          268028,
          402066,
          553817,
          317567,
          419298,
          394590,
          302970,
          386749,
          313667,
          337657,
          478249,
          511576,
          373587,
          428801,
          600365,
          354590,
          433980,
          378676,
          315496,
          395689,
          349808,
          345483,
          527051,
          482008,
          358017,
          448421,
          553812,
          344417,
          413623,
          364985,
          349198,
          370922,
          330686,
          346859,
          506512,
          497995,
          408068,
          443477,
          537131,
          359857,
          489782,
          414330,
          314666,
          370841,
          344474,
          398048,
          520738,
          524748,
          422322,
          453418,
          555881,
          394766,
          493356,
          437428,
          396978,
          398836,
          370385,
          415444,
          531122,
          552488,
          430437,
          464679,
          582253,
          390866,
          463160,
          439183,
          390369,
          399070,
          407361,
          427720,
          571131,
          605911,
          476170,
          498387,
          619644,
          422565,
          522485,
          456328,
          415245,
          436262,
          401082,
          474915,
          635003,
          644912,
          521427,
          600307,
          744580,
          470874,
          572332,
          511604,
          510640,
          510975,
          509512,
          558910,
          728381,
          745570,
          614021,
          669007,
          782083,
          593675,
          720469,
          624435,
          521263,
          545891,
          561823,
          602399,
          817265,
          856206,
          705088,
          797144,
          899825,
          725535,
          858242,
          723433,
          648125,
          670561,
          662759,
          695460,
          916662,
          970604,
          848316,
          883132,
          922466,
          751674,
          938660,
          775262,
          655947,
          653589,
          675781,
          718468,
          1008948,
          1023080,
          950314,
          1057328,
          1177453,
          967275,
          1011548,
          845584,
          761897,
          798756,
          792298,
          892056,
          1132542,
          1010858,
          1068106,
          1155181,
          1247474,
          1091564,
          1222459,
          986324,
          876389,
          928344,
          937603,
          1000223,
          1260006,
          1319789,
          937400,
          1078060,
          1328896,
          1224625,
          1402965,
          1163028,
          1083456,
          1049709,
          1098276,
          1159193,
          1368753,
          1442331,
          1443083,
          1542662,
          1551305,
          1350987,
          1446506,
          1224735,
          1175440,
          1220995,
          1110063,
          1120243,
          1310685,
          1300392,
          1274019,
          1285254,
          1318769,
          1251605
         ]
        },
        {
         "line": {
          "color": "rgba(0,0,30,0.5)"
         },
         "mode": "lines",
         "name": "Test",
         "type": "scatter",
         "x": [
          "2017-10-01T00:00:00",
          "2017-11-01T00:00:00",
          "2017-12-01T00:00:00",
          "2018-01-01T00:00:00",
          "2018-02-01T00:00:00",
          "2018-03-01T00:00:00",
          "2018-04-01T00:00:00",
          "2018-05-01T00:00:00",
          "2018-06-01T00:00:00",
          "2018-07-01T00:00:00",
          "2018-08-01T00:00:00",
          "2018-09-01T00:00:00",
          "2018-10-01T00:00:00",
          "2018-11-01T00:00:00",
          "2018-12-01T00:00:00",
          "2019-01-01T00:00:00",
          "2019-02-01T00:00:00",
          "2019-03-01T00:00:00",
          "2019-04-01T00:00:00",
          "2019-05-01T00:00:00",
          "2019-06-01T00:00:00",
          "2019-07-01T00:00:00",
          "2019-08-01T00:00:00",
          "2019-09-01T00:00:00",
          "2019-10-01T00:00:00",
          "2019-11-01T00:00:00",
          "2019-12-01T00:00:00",
          "2020-01-01T00:00:00",
          "2020-02-01T00:00:00",
          "2020-03-01T00:00:00",
          "2020-04-01T00:00:00",
          "2020-05-01T00:00:00",
          "2020-06-01T00:00:00",
          "2020-07-01T00:00:00",
          "2020-08-01T00:00:00",
          "2020-09-01T00:00:00",
          "2020-10-01T00:00:00",
          "2020-11-01T00:00:00",
          "2020-12-01T00:00:00",
          "2021-01-01T00:00:00",
          "2021-02-01T00:00:00",
          "2021-03-01T00:00:00",
          "2021-04-01T00:00:00",
          "2021-05-01T00:00:00",
          "2021-06-01T00:00:00",
          "2021-07-01T00:00:00",
          "2021-08-01T00:00:00",
          "2021-09-01T00:00:00",
          "2021-10-01T00:00:00",
          "2021-11-01T00:00:00",
          "2021-12-01T00:00:00"
         ],
         "y": [
          1299582,
          1154632,
          1106997,
          1102378,
          949909,
          1114393,
          1311203,
          1296975,
          1293728,
          1237049,
          1278528,
          1221589,
          1263722,
          1153595,
          1090892,
          1130843,
          1110817,
          1164834,
          1298026,
          1323866,
          1307217,
          1310076,
          1421455,
          1181516,
          1422312,
          1323551,
          1291623,
          1250046,
          628804,
          480762,
          542258,
          768102,
          863417,
          992476,
          1133095,
          729677,
          1078243,
          1143700,
          625865,
          468016,
          793768,
          893326,
          1082861,
          1136452,
          1138867,
          1131512,
          974194,
          872396,
          1222094,
          1204344,
          1090607
         ]
        },
        {
         "line": {
          "color": "red",
          "dash": "dot",
          "width": 3
         },
         "mode": "lines",
         "name": "Prediction",
         "type": "scatter",
         "x": [
          "2017-10-01T00:00:00",
          "2017-11-01T00:00:00",
          "2017-12-01T00:00:00",
          "2018-01-01T00:00:00",
          "2018-02-01T00:00:00",
          "2018-03-01T00:00:00",
          "2018-04-01T00:00:00",
          "2018-05-01T00:00:00",
          "2018-06-01T00:00:00",
          "2018-07-01T00:00:00",
          "2018-08-01T00:00:00",
          "2018-09-01T00:00:00",
          "2018-10-01T00:00:00",
          "2018-11-01T00:00:00",
          "2018-12-01T00:00:00",
          "2019-01-01T00:00:00",
          "2019-02-01T00:00:00",
          "2019-03-01T00:00:00",
          "2019-04-01T00:00:00",
          "2019-05-01T00:00:00",
          "2019-06-01T00:00:00",
          "2019-07-01T00:00:00",
          "2019-08-01T00:00:00",
          "2019-09-01T00:00:00",
          "2019-10-01T00:00:00",
          "2019-11-01T00:00:00",
          "2019-12-01T00:00:00",
          "2020-01-01T00:00:00",
          "2020-02-01T00:00:00",
          "2020-03-01T00:00:00",
          "2020-04-01T00:00:00",
          "2020-05-01T00:00:00",
          "2020-06-01T00:00:00",
          "2020-07-01T00:00:00",
          "2020-08-01T00:00:00",
          "2020-09-01T00:00:00",
          "2020-10-01T00:00:00",
          "2020-11-01T00:00:00",
          "2020-12-01T00:00:00",
          "2021-01-01T00:00:00",
          "2021-02-01T00:00:00",
          "2021-03-01T00:00:00",
          "2021-04-01T00:00:00",
          "2021-05-01T00:00:00",
          "2021-06-01T00:00:00",
          "2021-07-01T00:00:00",
          "2021-08-01T00:00:00",
          "2021-09-01T00:00:00",
          "2021-10-01T00:00:00",
          "2021-11-01T00:00:00",
          "2021-12-01T00:00:00"
         ],
         "y": [
          1322527.6950149476,
          1272706.1393356903,
          1218310.0981940809,
          1174094.7305461068,
          1229520.8770351724,
          991668.9964558944,
          1348718.4701177895,
          1202112.831846445,
          1344238.3177134066,
          1211783.8278922003,
          1297305.2818851757,
          1243090.6270565693,
          1266696.9806393725,
          1258752.5988660206,
          1196144.7829642105,
          1154836.479593807,
          1237355.479640565,
          1118485.2503370678,
          1278549.9030210953,
          1246395.8458086199,
          1328515.0967210175,
          1238116.643353965,
          1340600.89066792,
          1347943.485875747,
          1164568.30660995,
          1486175.7441052708,
          1224897.024447739,
          1335694.3863548809,
          1273713.2672068977,
          753902.906490915,
          951897.6210785054,
          711787.0346727357,
          1075192.8304235148,
          793780.7194786167,
          1143949.0263119468,
          998747.7249106655,
          766705.3319504802,
          1251393.110240121,
          954771.856428105,
          686879.4790046273,
          720512.9198160484,
          933029.5623635557,
          868749.9302870195,
          1088727.6672922038,
          1013902.449921649,
          1080989.9429082465,
          1072458.8177252766,
          918539.9138738925,
          973262.8478621321,
          1229975.7923710316,
          1058148.5896688064
         ]
        },
        {
         "fill": "toself",
         "fillcolor": "rgba(0,0,30,0.1)",
         "hoverinfo": "skip",
         "line": {
          "color": "rgba(0,0,0,0)"
         },
         "showlegend": false,
         "type": "scatter",
         "x": [
          "2017-10-01T00:00:00",
          "2017-11-01T00:00:00",
          "2017-12-01T00:00:00",
          "2018-01-01T00:00:00",
          "2018-02-01T00:00:00",
          "2018-03-01T00:00:00",
          "2018-04-01T00:00:00",
          "2018-05-01T00:00:00",
          "2018-06-01T00:00:00",
          "2018-07-01T00:00:00",
          "2018-08-01T00:00:00",
          "2018-09-01T00:00:00",
          "2018-10-01T00:00:00",
          "2018-11-01T00:00:00",
          "2018-12-01T00:00:00",
          "2019-01-01T00:00:00",
          "2019-02-01T00:00:00",
          "2019-03-01T00:00:00",
          "2019-04-01T00:00:00",
          "2019-05-01T00:00:00",
          "2019-06-01T00:00:00",
          "2019-07-01T00:00:00",
          "2019-08-01T00:00:00",
          "2019-09-01T00:00:00",
          "2019-10-01T00:00:00",
          "2019-11-01T00:00:00",
          "2019-12-01T00:00:00",
          "2020-01-01T00:00:00",
          "2020-02-01T00:00:00",
          "2020-03-01T00:00:00",
          "2020-04-01T00:00:00",
          "2020-05-01T00:00:00",
          "2020-06-01T00:00:00",
          "2020-07-01T00:00:00",
          "2020-08-01T00:00:00",
          "2020-09-01T00:00:00",
          "2020-10-01T00:00:00",
          "2020-11-01T00:00:00",
          "2020-12-01T00:00:00",
          "2021-01-01T00:00:00",
          "2021-02-01T00:00:00",
          "2021-03-01T00:00:00",
          "2021-04-01T00:00:00",
          "2021-05-01T00:00:00",
          "2021-06-01T00:00:00",
          "2021-07-01T00:00:00",
          "2021-08-01T00:00:00",
          "2021-09-01T00:00:00",
          "2021-10-01T00:00:00",
          "2021-11-01T00:00:00",
          "2021-12-01T00:00:00",
          "2021-12-01T00:00:00",
          "2021-11-01T00:00:00",
          "2021-10-01T00:00:00",
          "2021-09-01T00:00:00",
          "2021-08-01T00:00:00",
          "2021-07-01T00:00:00",
          "2021-06-01T00:00:00",
          "2021-05-01T00:00:00",
          "2021-04-01T00:00:00",
          "2021-03-01T00:00:00",
          "2021-02-01T00:00:00",
          "2021-01-01T00:00:00",
          "2020-12-01T00:00:00",
          "2020-11-01T00:00:00",
          "2020-10-01T00:00:00",
          "2020-09-01T00:00:00",
          "2020-08-01T00:00:00",
          "2020-07-01T00:00:00",
          "2020-06-01T00:00:00",
          "2020-05-01T00:00:00",
          "2020-04-01T00:00:00",
          "2020-03-01T00:00:00",
          "2020-02-01T00:00:00",
          "2020-01-01T00:00:00",
          "2019-12-01T00:00:00",
          "2019-11-01T00:00:00",
          "2019-10-01T00:00:00",
          "2019-09-01T00:00:00",
          "2019-08-01T00:00:00",
          "2019-07-01T00:00:00",
          "2019-06-01T00:00:00",
          "2019-05-01T00:00:00",
          "2019-04-01T00:00:00",
          "2019-03-01T00:00:00",
          "2019-02-01T00:00:00",
          "2019-01-01T00:00:00",
          "2018-12-01T00:00:00",
          "2018-11-01T00:00:00",
          "2018-10-01T00:00:00",
          "2018-09-01T00:00:00",
          "2018-08-01T00:00:00",
          "2018-07-01T00:00:00",
          "2018-06-01T00:00:00",
          "2018-05-01T00:00:00",
          "2018-04-01T00:00:00",
          "2018-03-01T00:00:00",
          "2018-02-01T00:00:00",
          "2018-01-01T00:00:00",
          "2017-12-01T00:00:00",
          "2017-11-01T00:00:00",
          "2017-10-01T00:00:00"
         ],
         "y": [
          1533214.7354811314,
          1483393.1797193778,
          1428997.1382079313,
          1384781.7699177826,
          1440207.9157414131,
          1202356.0348603793,
          1559405.5080984514,
          1412799.8692382777,
          1554925.3532783748,
          1422470.8632482595,
          1507992.310848021,
          1453777.6522330435,
          1477384.0052747475,
          1469439.6219141164,
          1406831.8046991955,
          1365523.4985140979,
          1448042.4978507904,
          1329172.268324094,
          1489236.9198459808,
          1457082.861662653,
          1539202.1098624773,
          1448803.6560501403,
          1551287.8967240187,
          1558630.490183623,
          1375255.3021194048,
          1696862.737784273,
          1435584.0183635447,
          1546381.3898332599,
          1484400.2837649821,
          964589.8952284384,
          1162584.6098402312,
          922474.02361194,
          1285879.8197711725,
          1004467.708884704,
          1354636.0158724876,
          1209434.7150022527,
          977392.3225397221,
          1462080.1015054695,
          1165458.848854047,
          897566.4717515205,
          931199.9130949598,
          1143716.5559509136,
          1079436.9242412038,
          1299414.6613418353,
          1224589.4442427438,
          1291676.9375456031,
          1283145.8126092742,
          1129226.9090172646,
          1183949.8433018446,
          1440662.7881496449,
          1268835.5859312348,
          847461.5934063781,
          1019288.7965924183,
          762575.8524224197,
          707852.9187305204,
          861771.8228412791,
          870302.94827089,
          803215.4556005541,
          878040.6732425722,
          658062.9363328351,
          722342.5687761978,
          509825.9265371369,
          476192.4862577341,
          744084.864002163,
          1040706.1189747723,
          556018.3413612384,
          788060.7348190785,
          933262.0367514059,
          583093.7300725294,
          864505.8410758573,
          501100.0457335315,
          741210.6323167796,
          543215.9177533915,
          1063026.2506488133,
          1125007.382876502,
          1014210.030531933,
          1275488.7504262687,
          953881.3111004952,
          1137256.4815678708,
          1129913.8846118213,
          1027429.6306577894,
          1117828.0835795577,
          1035708.8299545867,
          1067862.8861962098,
          907798.2323500417,
          1026668.4614303398,
          944149.4606735159,
          985457.7612292254,
          1048065.5758179248,
          1056009.9560039975,
          1032403.6018800953,
          1086618.2529223305,
          1001096.7925361411,
          1133551.2821484385,
          991425.7944546127,
          1138031.4321371275,
          780981.9580514095,
          1018833.8383289318,
          963407.691174431,
          1007623.0581802304,
          1062019.0989520028,
          1111840.6545487638
         ]
        }
       ],
       "layout": {
        "height": 400,
        "template": {
         "data": {
          "bar": [
           {
            "error_x": {
             "color": "#2a3f5f"
            },
            "error_y": {
             "color": "#2a3f5f"
            },
            "marker": {
             "line": {
              "color": "#E5ECF6",
              "width": 0.5
             },
             "pattern": {
              "fillmode": "overlay",
              "size": 10,
              "solidity": 0.2
             }
            },
            "type": "bar"
           }
          ],
          "barpolar": [
           {
            "marker": {
             "line": {
              "color": "#E5ECF6",
              "width": 0.5
             },
             "pattern": {
              "fillmode": "overlay",
              "size": 10,
              "solidity": 0.2
             }
            },
            "type": "barpolar"
           }
          ],
          "carpet": [
           {
            "aaxis": {
             "endlinecolor": "#2a3f5f",
             "gridcolor": "white",
             "linecolor": "white",
             "minorgridcolor": "white",
             "startlinecolor": "#2a3f5f"
            },
            "baxis": {
             "endlinecolor": "#2a3f5f",
             "gridcolor": "white",
             "linecolor": "white",
             "minorgridcolor": "white",
             "startlinecolor": "#2a3f5f"
            },
            "type": "carpet"
           }
          ],
          "choropleth": [
           {
            "colorbar": {
             "outlinewidth": 0,
             "ticks": ""
            },
            "type": "choropleth"
           }
          ],
          "contour": [
           {
            "colorbar": {
             "outlinewidth": 0,
             "ticks": ""
            },
            "colorscale": [
             [
              0,
              "#0d0887"
             ],
             [
              0.1111111111111111,
              "#46039f"
             ],
             [
              0.2222222222222222,
              "#7201a8"
             ],
             [
              0.3333333333333333,
              "#9c179e"
             ],
             [
              0.4444444444444444,
              "#bd3786"
             ],
             [
              0.5555555555555556,
              "#d8576b"
             ],
             [
              0.6666666666666666,
              "#ed7953"
             ],
             [
              0.7777777777777778,
              "#fb9f3a"
             ],
             [
              0.8888888888888888,
              "#fdca26"
             ],
             [
              1,
              "#f0f921"
             ]
            ],
            "type": "contour"
           }
          ],
          "contourcarpet": [
           {
            "colorbar": {
             "outlinewidth": 0,
             "ticks": ""
            },
            "type": "contourcarpet"
           }
          ],
          "heatmap": [
           {
            "colorbar": {
             "outlinewidth": 0,
             "ticks": ""
            },
            "colorscale": [
             [
              0,
              "#0d0887"
             ],
             [
              0.1111111111111111,
              "#46039f"
             ],
             [
              0.2222222222222222,
              "#7201a8"
             ],
             [
              0.3333333333333333,
              "#9c179e"
             ],
             [
              0.4444444444444444,
              "#bd3786"
             ],
             [
              0.5555555555555556,
              "#d8576b"
             ],
             [
              0.6666666666666666,
              "#ed7953"
             ],
             [
              0.7777777777777778,
              "#fb9f3a"
             ],
             [
              0.8888888888888888,
              "#fdca26"
             ],
             [
              1,
              "#f0f921"
             ]
            ],
            "type": "heatmap"
           }
          ],
          "heatmapgl": [
           {
            "colorbar": {
             "outlinewidth": 0,
             "ticks": ""
            },
            "colorscale": [
             [
              0,
              "#0d0887"
             ],
             [
              0.1111111111111111,
              "#46039f"
             ],
             [
              0.2222222222222222,
              "#7201a8"
             ],
             [
              0.3333333333333333,
              "#9c179e"
             ],
             [
              0.4444444444444444,
              "#bd3786"
             ],
             [
              0.5555555555555556,
              "#d8576b"
             ],
             [
              0.6666666666666666,
              "#ed7953"
             ],
             [
              0.7777777777777778,
              "#fb9f3a"
             ],
             [
              0.8888888888888888,
              "#fdca26"
             ],
             [
              1,
              "#f0f921"
             ]
            ],
            "type": "heatmapgl"
           }
          ],
          "histogram": [
           {
            "marker": {
             "pattern": {
              "fillmode": "overlay",
              "size": 10,
              "solidity": 0.2
             }
            },
            "type": "histogram"
           }
          ],
          "histogram2d": [
           {
            "colorbar": {
             "outlinewidth": 0,
             "ticks": ""
            },
            "colorscale": [
             [
              0,
              "#0d0887"
             ],
             [
              0.1111111111111111,
              "#46039f"
             ],
             [
              0.2222222222222222,
              "#7201a8"
             ],
             [
              0.3333333333333333,
              "#9c179e"
             ],
             [
              0.4444444444444444,
              "#bd3786"
             ],
             [
              0.5555555555555556,
              "#d8576b"
             ],
             [
              0.6666666666666666,
              "#ed7953"
             ],
             [
              0.7777777777777778,
              "#fb9f3a"
             ],
             [
              0.8888888888888888,
              "#fdca26"
             ],
             [
              1,
              "#f0f921"
             ]
            ],
            "type": "histogram2d"
           }
          ],
          "histogram2dcontour": [
           {
            "colorbar": {
             "outlinewidth": 0,
             "ticks": ""
            },
            "colorscale": [
             [
              0,
              "#0d0887"
             ],
             [
              0.1111111111111111,
              "#46039f"
             ],
             [
              0.2222222222222222,
              "#7201a8"
             ],
             [
              0.3333333333333333,
              "#9c179e"
             ],
             [
              0.4444444444444444,
              "#bd3786"
             ],
             [
              0.5555555555555556,
              "#d8576b"
             ],
             [
              0.6666666666666666,
              "#ed7953"
             ],
             [
              0.7777777777777778,
              "#fb9f3a"
             ],
             [
              0.8888888888888888,
              "#fdca26"
             ],
             [
              1,
              "#f0f921"
             ]
            ],
            "type": "histogram2dcontour"
           }
          ],
          "mesh3d": [
           {
            "colorbar": {
             "outlinewidth": 0,
             "ticks": ""
            },
            "type": "mesh3d"
           }
          ],
          "parcoords": [
           {
            "line": {
             "colorbar": {
              "outlinewidth": 0,
              "ticks": ""
             }
            },
            "type": "parcoords"
           }
          ],
          "pie": [
           {
            "automargin": true,
            "type": "pie"
           }
          ],
          "scatter": [
           {
            "marker": {
             "colorbar": {
              "outlinewidth": 0,
              "ticks": ""
             }
            },
            "type": "scatter"
           }
          ],
          "scatter3d": [
           {
            "line": {
             "colorbar": {
              "outlinewidth": 0,
              "ticks": ""
             }
            },
            "marker": {
             "colorbar": {
              "outlinewidth": 0,
              "ticks": ""
             }
            },
            "type": "scatter3d"
           }
          ],
          "scattercarpet": [
           {
            "marker": {
             "colorbar": {
              "outlinewidth": 0,
              "ticks": ""
             }
            },
            "type": "scattercarpet"
           }
          ],
          "scattergeo": [
           {
            "marker": {
             "colorbar": {
              "outlinewidth": 0,
              "ticks": ""
             }
            },
            "type": "scattergeo"
           }
          ],
          "scattergl": [
           {
            "marker": {
             "colorbar": {
              "outlinewidth": 0,
              "ticks": ""
             }
            },
            "type": "scattergl"
           }
          ],
          "scattermapbox": [
           {
            "marker": {
             "colorbar": {
              "outlinewidth": 0,
              "ticks": ""
             }
            },
            "type": "scattermapbox"
           }
          ],
          "scatterpolar": [
           {
            "marker": {
             "colorbar": {
              "outlinewidth": 0,
              "ticks": ""
             }
            },
            "type": "scatterpolar"
           }
          ],
          "scatterpolargl": [
           {
            "marker": {
             "colorbar": {
              "outlinewidth": 0,
              "ticks": ""
             }
            },
            "type": "scatterpolargl"
           }
          ],
          "scatterternary": [
           {
            "marker": {
             "colorbar": {
              "outlinewidth": 0,
              "ticks": ""
             }
            },
            "type": "scatterternary"
           }
          ],
          "surface": [
           {
            "colorbar": {
             "outlinewidth": 0,
             "ticks": ""
            },
            "colorscale": [
             [
              0,
              "#0d0887"
             ],
             [
              0.1111111111111111,
              "#46039f"
             ],
             [
              0.2222222222222222,
              "#7201a8"
             ],
             [
              0.3333333333333333,
              "#9c179e"
             ],
             [
              0.4444444444444444,
              "#bd3786"
             ],
             [
              0.5555555555555556,
              "#d8576b"
             ],
             [
              0.6666666666666666,
              "#ed7953"
             ],
             [
              0.7777777777777778,
              "#fb9f3a"
             ],
             [
              0.8888888888888888,
              "#fdca26"
             ],
             [
              1,
              "#f0f921"
             ]
            ],
            "type": "surface"
           }
          ],
          "table": [
           {
            "cells": {
             "fill": {
              "color": "#EBF0F8"
             },
             "line": {
              "color": "white"
             }
            },
            "header": {
             "fill": {
              "color": "#C8D4E3"
             },
             "line": {
              "color": "white"
             }
            },
            "type": "table"
           }
          ]
         },
         "layout": {
          "annotationdefaults": {
           "arrowcolor": "#2a3f5f",
           "arrowhead": 0,
           "arrowwidth": 1
          },
          "autotypenumbers": "strict",
          "coloraxis": {
           "colorbar": {
            "outlinewidth": 0,
            "ticks": ""
           }
          },
          "colorscale": {
           "diverging": [
            [
             0,
             "#8e0152"
            ],
            [
             0.1,
             "#c51b7d"
            ],
            [
             0.2,
             "#de77ae"
            ],
            [
             0.3,
             "#f1b6da"
            ],
            [
             0.4,
             "#fde0ef"
            ],
            [
             0.5,
             "#f7f7f7"
            ],
            [
             0.6,
             "#e6f5d0"
            ],
            [
             0.7,
             "#b8e186"
            ],
            [
             0.8,
             "#7fbc41"
            ],
            [
             0.9,
             "#4d9221"
            ],
            [
             1,
             "#276419"
            ]
           ],
           "sequential": [
            [
             0,
             "#0d0887"
            ],
            [
             0.1111111111111111,
             "#46039f"
            ],
            [
             0.2222222222222222,
             "#7201a8"
            ],
            [
             0.3333333333333333,
             "#9c179e"
            ],
            [
             0.4444444444444444,
             "#bd3786"
            ],
            [
             0.5555555555555556,
             "#d8576b"
            ],
            [
             0.6666666666666666,
             "#ed7953"
            ],
            [
             0.7777777777777778,
             "#fb9f3a"
            ],
            [
             0.8888888888888888,
             "#fdca26"
            ],
            [
             1,
             "#f0f921"
            ]
           ],
           "sequentialminus": [
            [
             0,
             "#0d0887"
            ],
            [
             0.1111111111111111,
             "#46039f"
            ],
            [
             0.2222222222222222,
             "#7201a8"
            ],
            [
             0.3333333333333333,
             "#9c179e"
            ],
            [
             0.4444444444444444,
             "#bd3786"
            ],
            [
             0.5555555555555556,
             "#d8576b"
            ],
            [
             0.6666666666666666,
             "#ed7953"
            ],
            [
             0.7777777777777778,
             "#fb9f3a"
            ],
            [
             0.8888888888888888,
             "#fdca26"
            ],
            [
             1,
             "#f0f921"
            ]
           ]
          },
          "colorway": [
           "#636efa",
           "#EF553B",
           "#00cc96",
           "#ab63fa",
           "#FFA15A",
           "#19d3f3",
           "#FF6692",
           "#B6E880",
           "#FF97FF",
           "#FECB52"
          ],
          "font": {
           "color": "#2a3f5f"
          },
          "geo": {
           "bgcolor": "white",
           "lakecolor": "white",
           "landcolor": "#E5ECF6",
           "showlakes": true,
           "showland": true,
           "subunitcolor": "white"
          },
          "hoverlabel": {
           "align": "left"
          },
          "hovermode": "closest",
          "mapbox": {
           "style": "light"
          },
          "paper_bgcolor": "white",
          "plot_bgcolor": "#E5ECF6",
          "polar": {
           "angularaxis": {
            "gridcolor": "white",
            "linecolor": "white",
            "ticks": ""
           },
           "bgcolor": "#E5ECF6",
           "radialaxis": {
            "gridcolor": "white",
            "linecolor": "white",
            "ticks": ""
           }
          },
          "scene": {
           "xaxis": {
            "backgroundcolor": "#E5ECF6",
            "gridcolor": "white",
            "gridwidth": 2,
            "linecolor": "white",
            "showbackground": true,
            "ticks": "",
            "zerolinecolor": "white"
           },
           "yaxis": {
            "backgroundcolor": "#E5ECF6",
            "gridcolor": "white",
            "gridwidth": 2,
            "linecolor": "white",
            "showbackground": true,
            "ticks": "",
            "zerolinecolor": "white"
           },
           "zaxis": {
            "backgroundcolor": "#E5ECF6",
            "gridcolor": "white",
            "gridwidth": 2,
            "linecolor": "white",
            "showbackground": true,
            "ticks": "",
            "zerolinecolor": "white"
           }
          },
          "shapedefaults": {
           "line": {
            "color": "#2a3f5f"
           }
          },
          "ternary": {
           "aaxis": {
            "gridcolor": "white",
            "linecolor": "white",
            "ticks": ""
           },
           "baxis": {
            "gridcolor": "white",
            "linecolor": "white",
            "ticks": ""
           },
           "bgcolor": "#E5ECF6",
           "caxis": {
            "gridcolor": "white",
            "linecolor": "white",
            "ticks": ""
           }
          },
          "title": {
           "x": 0.05
          },
          "xaxis": {
           "automargin": true,
           "gridcolor": "white",
           "linecolor": "white",
           "ticks": "",
           "title": {
            "standoff": 15
           },
           "zerolinecolor": "white",
           "zerolinewidth": 2
          },
          "yaxis": {
           "automargin": true,
           "gridcolor": "white",
           "linecolor": "white",
           "ticks": "",
           "title": {
            "standoff": 15
           },
           "zerolinecolor": "white",
           "zerolinewidth": 2
          }
         }
        },
        "title": {
         "text": "ARIMA(1,1,3)모형"
        },
        "width": 1000
       }
      },
      "text/html": [
       "<div>                            <div id=\"b7c64708-69e8-416e-b591-4618fe6df68c\" class=\"plotly-graph-div\" style=\"height:400px; width:1000px;\"></div>            <script type=\"text/javascript\">                require([\"plotly\"], function(Plotly) {                    window.PLOTLYENV=window.PLOTLYENV || {};                                    if (document.getElementById(\"b7c64708-69e8-416e-b591-4618fe6df68c\")) {                    Plotly.newPlot(                        \"b7c64708-69e8-416e-b591-4618fe6df68c\",                        [{\"line\":{\"color\":\"royalblue\"},\"mode\":\"lines\",\"name\":\"Train\",\"x\":[\"2001-01-01T00:00:00\",\"2001-02-01T00:00:00\",\"2001-03-01T00:00:00\",\"2001-04-01T00:00:00\",\"2001-05-01T00:00:00\",\"2001-06-01T00:00:00\",\"2001-07-01T00:00:00\",\"2001-08-01T00:00:00\",\"2001-09-01T00:00:00\",\"2001-10-01T00:00:00\",\"2001-11-01T00:00:00\",\"2001-12-01T00:00:00\",\"2002-01-01T00:00:00\",\"2002-02-01T00:00:00\",\"2002-03-01T00:00:00\",\"2002-04-01T00:00:00\",\"2002-05-01T00:00:00\",\"2002-06-01T00:00:00\",\"2002-07-01T00:00:00\",\"2002-08-01T00:00:00\",\"2002-09-01T00:00:00\",\"2002-10-01T00:00:00\",\"2002-11-01T00:00:00\",\"2002-12-01T00:00:00\",\"2003-01-01T00:00:00\",\"2003-02-01T00:00:00\",\"2003-03-01T00:00:00\",\"2003-04-01T00:00:00\",\"2003-05-01T00:00:00\",\"2003-06-01T00:00:00\",\"2003-07-01T00:00:00\",\"2003-08-01T00:00:00\",\"2003-09-01T00:00:00\",\"2003-10-01T00:00:00\",\"2003-11-01T00:00:00\",\"2003-12-01T00:00:00\",\"2004-01-01T00:00:00\",\"2004-02-01T00:00:00\",\"2004-03-01T00:00:00\",\"2004-04-01T00:00:00\",\"2004-05-01T00:00:00\",\"2004-06-01T00:00:00\",\"2004-07-01T00:00:00\",\"2004-08-01T00:00:00\",\"2004-09-01T00:00:00\",\"2004-10-01T00:00:00\",\"2004-11-01T00:00:00\",\"2004-12-01T00:00:00\",\"2005-01-01T00:00:00\",\"2005-02-01T00:00:00\",\"2005-03-01T00:00:00\",\"2005-04-01T00:00:00\",\"2005-05-01T00:00:00\",\"2005-06-01T00:00:00\",\"2005-07-01T00:00:00\",\"2005-08-01T00:00:00\",\"2005-09-01T00:00:00\",\"2005-10-01T00:00:00\",\"2005-11-01T00:00:00\",\"2005-12-01T00:00:00\",\"2006-01-01T00:00:00\",\"2006-02-01T00:00:00\",\"2006-03-01T00:00:00\",\"2006-04-01T00:00:00\",\"2006-05-01T00:00:00\",\"2006-06-01T00:00:00\",\"2006-07-01T00:00:00\",\"2006-08-01T00:00:00\",\"2006-09-01T00:00:00\",\"2006-10-01T00:00:00\",\"2006-11-01T00:00:00\",\"2006-12-01T00:00:00\",\"2007-01-01T00:00:00\",\"2007-02-01T00:00:00\",\"2007-03-01T00:00:00\",\"2007-04-01T00:00:00\",\"2007-05-01T00:00:00\",\"2007-06-01T00:00:00\",\"2007-07-01T00:00:00\",\"2007-08-01T00:00:00\",\"2007-09-01T00:00:00\",\"2007-10-01T00:00:00\",\"2007-11-01T00:00:00\",\"2007-12-01T00:00:00\",\"2008-01-01T00:00:00\",\"2008-02-01T00:00:00\",\"2008-03-01T00:00:00\",\"2008-04-01T00:00:00\",\"2008-05-01T00:00:00\",\"2008-06-01T00:00:00\",\"2008-07-01T00:00:00\",\"2008-08-01T00:00:00\",\"2008-09-01T00:00:00\",\"2008-10-01T00:00:00\",\"2008-11-01T00:00:00\",\"2008-12-01T00:00:00\",\"2009-01-01T00:00:00\",\"2009-02-01T00:00:00\",\"2009-03-01T00:00:00\",\"2009-04-01T00:00:00\",\"2009-05-01T00:00:00\",\"2009-06-01T00:00:00\",\"2009-07-01T00:00:00\",\"2009-08-01T00:00:00\",\"2009-09-01T00:00:00\",\"2009-10-01T00:00:00\",\"2009-11-01T00:00:00\",\"2009-12-01T00:00:00\",\"2010-01-01T00:00:00\",\"2010-02-01T00:00:00\",\"2010-03-01T00:00:00\",\"2010-04-01T00:00:00\",\"2010-05-01T00:00:00\",\"2010-06-01T00:00:00\",\"2010-07-01T00:00:00\",\"2010-08-01T00:00:00\",\"2010-09-01T00:00:00\",\"2010-10-01T00:00:00\",\"2010-11-01T00:00:00\",\"2010-12-01T00:00:00\",\"2011-01-01T00:00:00\",\"2011-02-01T00:00:00\",\"2011-03-01T00:00:00\",\"2011-04-01T00:00:00\",\"2011-05-01T00:00:00\",\"2011-06-01T00:00:00\",\"2011-07-01T00:00:00\",\"2011-08-01T00:00:00\",\"2011-09-01T00:00:00\",\"2011-10-01T00:00:00\",\"2011-11-01T00:00:00\",\"2011-12-01T00:00:00\",\"2012-01-01T00:00:00\",\"2012-02-01T00:00:00\",\"2012-03-01T00:00:00\",\"2012-04-01T00:00:00\",\"2012-05-01T00:00:00\",\"2012-06-01T00:00:00\",\"2012-07-01T00:00:00\",\"2012-08-01T00:00:00\",\"2012-09-01T00:00:00\",\"2012-10-01T00:00:00\",\"2012-11-01T00:00:00\",\"2012-12-01T00:00:00\",\"2013-01-01T00:00:00\",\"2013-02-01T00:00:00\",\"2013-03-01T00:00:00\",\"2013-04-01T00:00:00\",\"2013-05-01T00:00:00\",\"2013-06-01T00:00:00\",\"2013-07-01T00:00:00\",\"2013-08-01T00:00:00\",\"2013-09-01T00:00:00\",\"2013-10-01T00:00:00\",\"2013-11-01T00:00:00\",\"2013-12-01T00:00:00\",\"2014-01-01T00:00:00\",\"2014-02-01T00:00:00\",\"2014-03-01T00:00:00\",\"2014-04-01T00:00:00\",\"2014-05-01T00:00:00\",\"2014-06-01T00:00:00\",\"2014-07-01T00:00:00\",\"2014-08-01T00:00:00\",\"2014-09-01T00:00:00\",\"2014-10-01T00:00:00\",\"2014-11-01T00:00:00\",\"2014-12-01T00:00:00\",\"2015-01-01T00:00:00\",\"2015-02-01T00:00:00\",\"2015-03-01T00:00:00\",\"2015-04-01T00:00:00\",\"2015-05-01T00:00:00\",\"2015-06-01T00:00:00\",\"2015-07-01T00:00:00\",\"2015-08-01T00:00:00\",\"2015-09-01T00:00:00\",\"2015-10-01T00:00:00\",\"2015-11-01T00:00:00\",\"2015-12-01T00:00:00\",\"2016-01-01T00:00:00\",\"2016-02-01T00:00:00\",\"2016-03-01T00:00:00\",\"2016-04-01T00:00:00\",\"2016-05-01T00:00:00\",\"2016-06-01T00:00:00\",\"2016-07-01T00:00:00\",\"2016-08-01T00:00:00\",\"2016-09-01T00:00:00\",\"2016-10-01T00:00:00\",\"2016-11-01T00:00:00\",\"2016-12-01T00:00:00\",\"2017-01-01T00:00:00\",\"2017-02-01T00:00:00\",\"2017-03-01T00:00:00\",\"2017-04-01T00:00:00\",\"2017-05-01T00:00:00\",\"2017-06-01T00:00:00\",\"2017-07-01T00:00:00\",\"2017-08-01T00:00:00\",\"2017-09-01T00:00:00\"],\"y\":[305666,262896,297281,397188,431365,303233,380950,494305,279630,353708,351002,340350,332221,286319,347308,463477,424607,268028,402066,553817,317567,419298,394590,302970,386749,313667,337657,478249,511576,373587,428801,600365,354590,433980,378676,315496,395689,349808,345483,527051,482008,358017,448421,553812,344417,413623,364985,349198,370922,330686,346859,506512,497995,408068,443477,537131,359857,489782,414330,314666,370841,344474,398048,520738,524748,422322,453418,555881,394766,493356,437428,396978,398836,370385,415444,531122,552488,430437,464679,582253,390866,463160,439183,390369,399070,407361,427720,571131,605911,476170,498387,619644,422565,522485,456328,415245,436262,401082,474915,635003,644912,521427,600307,744580,470874,572332,511604,510640,510975,509512,558910,728381,745570,614021,669007,782083,593675,720469,624435,521263,545891,561823,602399,817265,856206,705088,797144,899825,725535,858242,723433,648125,670561,662759,695460,916662,970604,848316,883132,922466,751674,938660,775262,655947,653589,675781,718468,1008948,1023080,950314,1057328,1177453,967275,1011548,845584,761897,798756,792298,892056,1132542,1010858,1068106,1155181,1247474,1091564,1222459,986324,876389,928344,937603,1000223,1260006,1319789,937400,1078060,1328896,1224625,1402965,1163028,1083456,1049709,1098276,1159193,1368753,1442331,1443083,1542662,1551305,1350987,1446506,1224735,1175440,1220995,1110063,1120243,1310685,1300392,1274019,1285254,1318769,1251605],\"type\":\"scatter\"},{\"line\":{\"color\":\"rgba(0,0,30,0.5)\"},\"mode\":\"lines\",\"name\":\"Test\",\"x\":[\"2017-10-01T00:00:00\",\"2017-11-01T00:00:00\",\"2017-12-01T00:00:00\",\"2018-01-01T00:00:00\",\"2018-02-01T00:00:00\",\"2018-03-01T00:00:00\",\"2018-04-01T00:00:00\",\"2018-05-01T00:00:00\",\"2018-06-01T00:00:00\",\"2018-07-01T00:00:00\",\"2018-08-01T00:00:00\",\"2018-09-01T00:00:00\",\"2018-10-01T00:00:00\",\"2018-11-01T00:00:00\",\"2018-12-01T00:00:00\",\"2019-01-01T00:00:00\",\"2019-02-01T00:00:00\",\"2019-03-01T00:00:00\",\"2019-04-01T00:00:00\",\"2019-05-01T00:00:00\",\"2019-06-01T00:00:00\",\"2019-07-01T00:00:00\",\"2019-08-01T00:00:00\",\"2019-09-01T00:00:00\",\"2019-10-01T00:00:00\",\"2019-11-01T00:00:00\",\"2019-12-01T00:00:00\",\"2020-01-01T00:00:00\",\"2020-02-01T00:00:00\",\"2020-03-01T00:00:00\",\"2020-04-01T00:00:00\",\"2020-05-01T00:00:00\",\"2020-06-01T00:00:00\",\"2020-07-01T00:00:00\",\"2020-08-01T00:00:00\",\"2020-09-01T00:00:00\",\"2020-10-01T00:00:00\",\"2020-11-01T00:00:00\",\"2020-12-01T00:00:00\",\"2021-01-01T00:00:00\",\"2021-02-01T00:00:00\",\"2021-03-01T00:00:00\",\"2021-04-01T00:00:00\",\"2021-05-01T00:00:00\",\"2021-06-01T00:00:00\",\"2021-07-01T00:00:00\",\"2021-08-01T00:00:00\",\"2021-09-01T00:00:00\",\"2021-10-01T00:00:00\",\"2021-11-01T00:00:00\",\"2021-12-01T00:00:00\"],\"y\":[1299582,1154632,1106997,1102378,949909,1114393,1311203,1296975,1293728,1237049,1278528,1221589,1263722,1153595,1090892,1130843,1110817,1164834,1298026,1323866,1307217,1310076,1421455,1181516,1422312,1323551,1291623,1250046,628804,480762,542258,768102,863417,992476,1133095,729677,1078243,1143700,625865,468016,793768,893326,1082861,1136452,1138867,1131512,974194,872396,1222094,1204344,1090607],\"type\":\"scatter\"},{\"line\":{\"color\":\"red\",\"dash\":\"dot\",\"width\":3},\"mode\":\"lines\",\"name\":\"Prediction\",\"x\":[\"2017-10-01T00:00:00\",\"2017-11-01T00:00:00\",\"2017-12-01T00:00:00\",\"2018-01-01T00:00:00\",\"2018-02-01T00:00:00\",\"2018-03-01T00:00:00\",\"2018-04-01T00:00:00\",\"2018-05-01T00:00:00\",\"2018-06-01T00:00:00\",\"2018-07-01T00:00:00\",\"2018-08-01T00:00:00\",\"2018-09-01T00:00:00\",\"2018-10-01T00:00:00\",\"2018-11-01T00:00:00\",\"2018-12-01T00:00:00\",\"2019-01-01T00:00:00\",\"2019-02-01T00:00:00\",\"2019-03-01T00:00:00\",\"2019-04-01T00:00:00\",\"2019-05-01T00:00:00\",\"2019-06-01T00:00:00\",\"2019-07-01T00:00:00\",\"2019-08-01T00:00:00\",\"2019-09-01T00:00:00\",\"2019-10-01T00:00:00\",\"2019-11-01T00:00:00\",\"2019-12-01T00:00:00\",\"2020-01-01T00:00:00\",\"2020-02-01T00:00:00\",\"2020-03-01T00:00:00\",\"2020-04-01T00:00:00\",\"2020-05-01T00:00:00\",\"2020-06-01T00:00:00\",\"2020-07-01T00:00:00\",\"2020-08-01T00:00:00\",\"2020-09-01T00:00:00\",\"2020-10-01T00:00:00\",\"2020-11-01T00:00:00\",\"2020-12-01T00:00:00\",\"2021-01-01T00:00:00\",\"2021-02-01T00:00:00\",\"2021-03-01T00:00:00\",\"2021-04-01T00:00:00\",\"2021-05-01T00:00:00\",\"2021-06-01T00:00:00\",\"2021-07-01T00:00:00\",\"2021-08-01T00:00:00\",\"2021-09-01T00:00:00\",\"2021-10-01T00:00:00\",\"2021-11-01T00:00:00\",\"2021-12-01T00:00:00\"],\"y\":[1322527.6950149476,1272706.1393356903,1218310.0981940809,1174094.7305461068,1229520.8770351724,991668.9964558944,1348718.4701177895,1202112.831846445,1344238.3177134066,1211783.8278922003,1297305.2818851757,1243090.6270565693,1266696.9806393725,1258752.5988660206,1196144.7829642105,1154836.479593807,1237355.479640565,1118485.2503370678,1278549.9030210953,1246395.8458086199,1328515.0967210175,1238116.643353965,1340600.89066792,1347943.485875747,1164568.30660995,1486175.7441052708,1224897.024447739,1335694.3863548809,1273713.2672068977,753902.906490915,951897.6210785054,711787.0346727357,1075192.8304235148,793780.7194786167,1143949.0263119468,998747.7249106655,766705.3319504802,1251393.110240121,954771.856428105,686879.4790046273,720512.9198160484,933029.5623635557,868749.9302870195,1088727.6672922038,1013902.449921649,1080989.9429082465,1072458.8177252766,918539.9138738925,973262.8478621321,1229975.7923710316,1058148.5896688064],\"type\":\"scatter\"},{\"fill\":\"toself\",\"fillcolor\":\"rgba(0,0,30,0.1)\",\"hoverinfo\":\"skip\",\"line\":{\"color\":\"rgba(0,0,0,0)\"},\"showlegend\":false,\"x\":[\"2017-10-01T00:00:00\",\"2017-11-01T00:00:00\",\"2017-12-01T00:00:00\",\"2018-01-01T00:00:00\",\"2018-02-01T00:00:00\",\"2018-03-01T00:00:00\",\"2018-04-01T00:00:00\",\"2018-05-01T00:00:00\",\"2018-06-01T00:00:00\",\"2018-07-01T00:00:00\",\"2018-08-01T00:00:00\",\"2018-09-01T00:00:00\",\"2018-10-01T00:00:00\",\"2018-11-01T00:00:00\",\"2018-12-01T00:00:00\",\"2019-01-01T00:00:00\",\"2019-02-01T00:00:00\",\"2019-03-01T00:00:00\",\"2019-04-01T00:00:00\",\"2019-05-01T00:00:00\",\"2019-06-01T00:00:00\",\"2019-07-01T00:00:00\",\"2019-08-01T00:00:00\",\"2019-09-01T00:00:00\",\"2019-10-01T00:00:00\",\"2019-11-01T00:00:00\",\"2019-12-01T00:00:00\",\"2020-01-01T00:00:00\",\"2020-02-01T00:00:00\",\"2020-03-01T00:00:00\",\"2020-04-01T00:00:00\",\"2020-05-01T00:00:00\",\"2020-06-01T00:00:00\",\"2020-07-01T00:00:00\",\"2020-08-01T00:00:00\",\"2020-09-01T00:00:00\",\"2020-10-01T00:00:00\",\"2020-11-01T00:00:00\",\"2020-12-01T00:00:00\",\"2021-01-01T00:00:00\",\"2021-02-01T00:00:00\",\"2021-03-01T00:00:00\",\"2021-04-01T00:00:00\",\"2021-05-01T00:00:00\",\"2021-06-01T00:00:00\",\"2021-07-01T00:00:00\",\"2021-08-01T00:00:00\",\"2021-09-01T00:00:00\",\"2021-10-01T00:00:00\",\"2021-11-01T00:00:00\",\"2021-12-01T00:00:00\",\"2021-12-01T00:00:00\",\"2021-11-01T00:00:00\",\"2021-10-01T00:00:00\",\"2021-09-01T00:00:00\",\"2021-08-01T00:00:00\",\"2021-07-01T00:00:00\",\"2021-06-01T00:00:00\",\"2021-05-01T00:00:00\",\"2021-04-01T00:00:00\",\"2021-03-01T00:00:00\",\"2021-02-01T00:00:00\",\"2021-01-01T00:00:00\",\"2020-12-01T00:00:00\",\"2020-11-01T00:00:00\",\"2020-10-01T00:00:00\",\"2020-09-01T00:00:00\",\"2020-08-01T00:00:00\",\"2020-07-01T00:00:00\",\"2020-06-01T00:00:00\",\"2020-05-01T00:00:00\",\"2020-04-01T00:00:00\",\"2020-03-01T00:00:00\",\"2020-02-01T00:00:00\",\"2020-01-01T00:00:00\",\"2019-12-01T00:00:00\",\"2019-11-01T00:00:00\",\"2019-10-01T00:00:00\",\"2019-09-01T00:00:00\",\"2019-08-01T00:00:00\",\"2019-07-01T00:00:00\",\"2019-06-01T00:00:00\",\"2019-05-01T00:00:00\",\"2019-04-01T00:00:00\",\"2019-03-01T00:00:00\",\"2019-02-01T00:00:00\",\"2019-01-01T00:00:00\",\"2018-12-01T00:00:00\",\"2018-11-01T00:00:00\",\"2018-10-01T00:00:00\",\"2018-09-01T00:00:00\",\"2018-08-01T00:00:00\",\"2018-07-01T00:00:00\",\"2018-06-01T00:00:00\",\"2018-05-01T00:00:00\",\"2018-04-01T00:00:00\",\"2018-03-01T00:00:00\",\"2018-02-01T00:00:00\",\"2018-01-01T00:00:00\",\"2017-12-01T00:00:00\",\"2017-11-01T00:00:00\",\"2017-10-01T00:00:00\"],\"y\":[1533214.7354811314,1483393.1797193778,1428997.1382079313,1384781.7699177826,1440207.9157414131,1202356.0348603793,1559405.5080984514,1412799.8692382777,1554925.3532783748,1422470.8632482595,1507992.310848021,1453777.6522330435,1477384.0052747475,1469439.6219141164,1406831.8046991955,1365523.4985140979,1448042.4978507904,1329172.268324094,1489236.9198459808,1457082.861662653,1539202.1098624773,1448803.6560501403,1551287.8967240187,1558630.490183623,1375255.3021194048,1696862.737784273,1435584.0183635447,1546381.3898332599,1484400.2837649821,964589.8952284384,1162584.6098402312,922474.02361194,1285879.8197711725,1004467.708884704,1354636.0158724876,1209434.7150022527,977392.3225397221,1462080.1015054695,1165458.848854047,897566.4717515205,931199.9130949598,1143716.5559509136,1079436.9242412038,1299414.6613418353,1224589.4442427438,1291676.9375456031,1283145.8126092742,1129226.9090172646,1183949.8433018446,1440662.7881496449,1268835.5859312348,847461.5934063781,1019288.7965924183,762575.8524224197,707852.9187305204,861771.8228412791,870302.94827089,803215.4556005541,878040.6732425722,658062.9363328351,722342.5687761978,509825.9265371369,476192.4862577341,744084.864002163,1040706.1189747723,556018.3413612384,788060.7348190785,933262.0367514059,583093.7300725294,864505.8410758573,501100.0457335315,741210.6323167796,543215.9177533915,1063026.2506488133,1125007.382876502,1014210.030531933,1275488.7504262687,953881.3111004952,1137256.4815678708,1129913.8846118213,1027429.6306577894,1117828.0835795577,1035708.8299545867,1067862.8861962098,907798.2323500417,1026668.4614303398,944149.4606735159,985457.7612292254,1048065.5758179248,1056009.9560039975,1032403.6018800953,1086618.2529223305,1001096.7925361411,1133551.2821484385,991425.7944546127,1138031.4321371275,780981.9580514095,1018833.8383289318,963407.691174431,1007623.0581802304,1062019.0989520028,1111840.6545487638],\"type\":\"scatter\"}],                        {\"template\":{\"data\":{\"bar\":[{\"error_x\":{\"color\":\"#2a3f5f\"},\"error_y\":{\"color\":\"#2a3f5f\"},\"marker\":{\"line\":{\"color\":\"#E5ECF6\",\"width\":0.5},\"pattern\":{\"fillmode\":\"overlay\",\"size\":10,\"solidity\":0.2}},\"type\":\"bar\"}],\"barpolar\":[{\"marker\":{\"line\":{\"color\":\"#E5ECF6\",\"width\":0.5},\"pattern\":{\"fillmode\":\"overlay\",\"size\":10,\"solidity\":0.2}},\"type\":\"barpolar\"}],\"carpet\":[{\"aaxis\":{\"endlinecolor\":\"#2a3f5f\",\"gridcolor\":\"white\",\"linecolor\":\"white\",\"minorgridcolor\":\"white\",\"startlinecolor\":\"#2a3f5f\"},\"baxis\":{\"endlinecolor\":\"#2a3f5f\",\"gridcolor\":\"white\",\"linecolor\":\"white\",\"minorgridcolor\":\"white\",\"startlinecolor\":\"#2a3f5f\"},\"type\":\"carpet\"}],\"choropleth\":[{\"colorbar\":{\"outlinewidth\":0,\"ticks\":\"\"},\"type\":\"choropleth\"}],\"contour\":[{\"colorbar\":{\"outlinewidth\":0,\"ticks\":\"\"},\"colorscale\":[[0.0,\"#0d0887\"],[0.1111111111111111,\"#46039f\"],[0.2222222222222222,\"#7201a8\"],[0.3333333333333333,\"#9c179e\"],[0.4444444444444444,\"#bd3786\"],[0.5555555555555556,\"#d8576b\"],[0.6666666666666666,\"#ed7953\"],[0.7777777777777778,\"#fb9f3a\"],[0.8888888888888888,\"#fdca26\"],[1.0,\"#f0f921\"]],\"type\":\"contour\"}],\"contourcarpet\":[{\"colorbar\":{\"outlinewidth\":0,\"ticks\":\"\"},\"type\":\"contourcarpet\"}],\"heatmap\":[{\"colorbar\":{\"outlinewidth\":0,\"ticks\":\"\"},\"colorscale\":[[0.0,\"#0d0887\"],[0.1111111111111111,\"#46039f\"],[0.2222222222222222,\"#7201a8\"],[0.3333333333333333,\"#9c179e\"],[0.4444444444444444,\"#bd3786\"],[0.5555555555555556,\"#d8576b\"],[0.6666666666666666,\"#ed7953\"],[0.7777777777777778,\"#fb9f3a\"],[0.8888888888888888,\"#fdca26\"],[1.0,\"#f0f921\"]],\"type\":\"heatmap\"}],\"heatmapgl\":[{\"colorbar\":{\"outlinewidth\":0,\"ticks\":\"\"},\"colorscale\":[[0.0,\"#0d0887\"],[0.1111111111111111,\"#46039f\"],[0.2222222222222222,\"#7201a8\"],[0.3333333333333333,\"#9c179e\"],[0.4444444444444444,\"#bd3786\"],[0.5555555555555556,\"#d8576b\"],[0.6666666666666666,\"#ed7953\"],[0.7777777777777778,\"#fb9f3a\"],[0.8888888888888888,\"#fdca26\"],[1.0,\"#f0f921\"]],\"type\":\"heatmapgl\"}],\"histogram\":[{\"marker\":{\"pattern\":{\"fillmode\":\"overlay\",\"size\":10,\"solidity\":0.2}},\"type\":\"histogram\"}],\"histogram2d\":[{\"colorbar\":{\"outlinewidth\":0,\"ticks\":\"\"},\"colorscale\":[[0.0,\"#0d0887\"],[0.1111111111111111,\"#46039f\"],[0.2222222222222222,\"#7201a8\"],[0.3333333333333333,\"#9c179e\"],[0.4444444444444444,\"#bd3786\"],[0.5555555555555556,\"#d8576b\"],[0.6666666666666666,\"#ed7953\"],[0.7777777777777778,\"#fb9f3a\"],[0.8888888888888888,\"#fdca26\"],[1.0,\"#f0f921\"]],\"type\":\"histogram2d\"}],\"histogram2dcontour\":[{\"colorbar\":{\"outlinewidth\":0,\"ticks\":\"\"},\"colorscale\":[[0.0,\"#0d0887\"],[0.1111111111111111,\"#46039f\"],[0.2222222222222222,\"#7201a8\"],[0.3333333333333333,\"#9c179e\"],[0.4444444444444444,\"#bd3786\"],[0.5555555555555556,\"#d8576b\"],[0.6666666666666666,\"#ed7953\"],[0.7777777777777778,\"#fb9f3a\"],[0.8888888888888888,\"#fdca26\"],[1.0,\"#f0f921\"]],\"type\":\"histogram2dcontour\"}],\"mesh3d\":[{\"colorbar\":{\"outlinewidth\":0,\"ticks\":\"\"},\"type\":\"mesh3d\"}],\"parcoords\":[{\"line\":{\"colorbar\":{\"outlinewidth\":0,\"ticks\":\"\"}},\"type\":\"parcoords\"}],\"pie\":[{\"automargin\":true,\"type\":\"pie\"}],\"scatter\":[{\"marker\":{\"colorbar\":{\"outlinewidth\":0,\"ticks\":\"\"}},\"type\":\"scatter\"}],\"scatter3d\":[{\"line\":{\"colorbar\":{\"outlinewidth\":0,\"ticks\":\"\"}},\"marker\":{\"colorbar\":{\"outlinewidth\":0,\"ticks\":\"\"}},\"type\":\"scatter3d\"}],\"scattercarpet\":[{\"marker\":{\"colorbar\":{\"outlinewidth\":0,\"ticks\":\"\"}},\"type\":\"scattercarpet\"}],\"scattergeo\":[{\"marker\":{\"colorbar\":{\"outlinewidth\":0,\"ticks\":\"\"}},\"type\":\"scattergeo\"}],\"scattergl\":[{\"marker\":{\"colorbar\":{\"outlinewidth\":0,\"ticks\":\"\"}},\"type\":\"scattergl\"}],\"scattermapbox\":[{\"marker\":{\"colorbar\":{\"outlinewidth\":0,\"ticks\":\"\"}},\"type\":\"scattermapbox\"}],\"scatterpolar\":[{\"marker\":{\"colorbar\":{\"outlinewidth\":0,\"ticks\":\"\"}},\"type\":\"scatterpolar\"}],\"scatterpolargl\":[{\"marker\":{\"colorbar\":{\"outlinewidth\":0,\"ticks\":\"\"}},\"type\":\"scatterpolargl\"}],\"scatterternary\":[{\"marker\":{\"colorbar\":{\"outlinewidth\":0,\"ticks\":\"\"}},\"type\":\"scatterternary\"}],\"surface\":[{\"colorbar\":{\"outlinewidth\":0,\"ticks\":\"\"},\"colorscale\":[[0.0,\"#0d0887\"],[0.1111111111111111,\"#46039f\"],[0.2222222222222222,\"#7201a8\"],[0.3333333333333333,\"#9c179e\"],[0.4444444444444444,\"#bd3786\"],[0.5555555555555556,\"#d8576b\"],[0.6666666666666666,\"#ed7953\"],[0.7777777777777778,\"#fb9f3a\"],[0.8888888888888888,\"#fdca26\"],[1.0,\"#f0f921\"]],\"type\":\"surface\"}],\"table\":[{\"cells\":{\"fill\":{\"color\":\"#EBF0F8\"},\"line\":{\"color\":\"white\"}},\"header\":{\"fill\":{\"color\":\"#C8D4E3\"},\"line\":{\"color\":\"white\"}},\"type\":\"table\"}]},\"layout\":{\"annotationdefaults\":{\"arrowcolor\":\"#2a3f5f\",\"arrowhead\":0,\"arrowwidth\":1},\"autotypenumbers\":\"strict\",\"coloraxis\":{\"colorbar\":{\"outlinewidth\":0,\"ticks\":\"\"}},\"colorscale\":{\"diverging\":[[0,\"#8e0152\"],[0.1,\"#c51b7d\"],[0.2,\"#de77ae\"],[0.3,\"#f1b6da\"],[0.4,\"#fde0ef\"],[0.5,\"#f7f7f7\"],[0.6,\"#e6f5d0\"],[0.7,\"#b8e186\"],[0.8,\"#7fbc41\"],[0.9,\"#4d9221\"],[1,\"#276419\"]],\"sequential\":[[0.0,\"#0d0887\"],[0.1111111111111111,\"#46039f\"],[0.2222222222222222,\"#7201a8\"],[0.3333333333333333,\"#9c179e\"],[0.4444444444444444,\"#bd3786\"],[0.5555555555555556,\"#d8576b\"],[0.6666666666666666,\"#ed7953\"],[0.7777777777777778,\"#fb9f3a\"],[0.8888888888888888,\"#fdca26\"],[1.0,\"#f0f921\"]],\"sequentialminus\":[[0.0,\"#0d0887\"],[0.1111111111111111,\"#46039f\"],[0.2222222222222222,\"#7201a8\"],[0.3333333333333333,\"#9c179e\"],[0.4444444444444444,\"#bd3786\"],[0.5555555555555556,\"#d8576b\"],[0.6666666666666666,\"#ed7953\"],[0.7777777777777778,\"#fb9f3a\"],[0.8888888888888888,\"#fdca26\"],[1.0,\"#f0f921\"]]},\"colorway\":[\"#636efa\",\"#EF553B\",\"#00cc96\",\"#ab63fa\",\"#FFA15A\",\"#19d3f3\",\"#FF6692\",\"#B6E880\",\"#FF97FF\",\"#FECB52\"],\"font\":{\"color\":\"#2a3f5f\"},\"geo\":{\"bgcolor\":\"white\",\"lakecolor\":\"white\",\"landcolor\":\"#E5ECF6\",\"showlakes\":true,\"showland\":true,\"subunitcolor\":\"white\"},\"hoverlabel\":{\"align\":\"left\"},\"hovermode\":\"closest\",\"mapbox\":{\"style\":\"light\"},\"paper_bgcolor\":\"white\",\"plot_bgcolor\":\"#E5ECF6\",\"polar\":{\"angularaxis\":{\"gridcolor\":\"white\",\"linecolor\":\"white\",\"ticks\":\"\"},\"bgcolor\":\"#E5ECF6\",\"radialaxis\":{\"gridcolor\":\"white\",\"linecolor\":\"white\",\"ticks\":\"\"}},\"scene\":{\"xaxis\":{\"backgroundcolor\":\"#E5ECF6\",\"gridcolor\":\"white\",\"gridwidth\":2,\"linecolor\":\"white\",\"showbackground\":true,\"ticks\":\"\",\"zerolinecolor\":\"white\"},\"yaxis\":{\"backgroundcolor\":\"#E5ECF6\",\"gridcolor\":\"white\",\"gridwidth\":2,\"linecolor\":\"white\",\"showbackground\":true,\"ticks\":\"\",\"zerolinecolor\":\"white\"},\"zaxis\":{\"backgroundcolor\":\"#E5ECF6\",\"gridcolor\":\"white\",\"gridwidth\":2,\"linecolor\":\"white\",\"showbackground\":true,\"ticks\":\"\",\"zerolinecolor\":\"white\"}},\"shapedefaults\":{\"line\":{\"color\":\"#2a3f5f\"}},\"ternary\":{\"aaxis\":{\"gridcolor\":\"white\",\"linecolor\":\"white\",\"ticks\":\"\"},\"baxis\":{\"gridcolor\":\"white\",\"linecolor\":\"white\",\"ticks\":\"\"},\"bgcolor\":\"#E5ECF6\",\"caxis\":{\"gridcolor\":\"white\",\"linecolor\":\"white\",\"ticks\":\"\"}},\"title\":{\"x\":0.05},\"xaxis\":{\"automargin\":true,\"gridcolor\":\"white\",\"linecolor\":\"white\",\"ticks\":\"\",\"title\":{\"standoff\":15},\"zerolinecolor\":\"white\",\"zerolinewidth\":2},\"yaxis\":{\"automargin\":true,\"gridcolor\":\"white\",\"linecolor\":\"white\",\"ticks\":\"\",\"title\":{\"standoff\":15},\"zerolinecolor\":\"white\",\"zerolinewidth\":2}}},\"title\":{\"text\":\"ARIMA(1,1,3)\\ubaa8\\ud615\"},\"height\":400,\"width\":1000},                        {\"responsive\": true}                    ).then(function(){\n",
       "                            \n",
       "var gd = document.getElementById('b7c64708-69e8-416e-b591-4618fe6df68c');\n",
       "var x = new MutationObserver(function (mutations, observer) {{\n",
       "        var display = window.getComputedStyle(gd).display;\n",
       "        if (!display || display === 'none') {{\n",
       "            console.log([gd, 'removed!']);\n",
       "            Plotly.purge(gd);\n",
       "            observer.disconnect();\n",
       "        }}\n",
       "}});\n",
       "\n",
       "// Listen for the removal of the full notebook cells\n",
       "var notebookContainer = gd.closest('#notebook-container');\n",
       "if (notebookContainer) {{\n",
       "    x.observe(notebookContainer, {childList: true});\n",
       "}}\n",
       "\n",
       "// Listen for the clearing of the current output cell\n",
       "var outputEl = gd.closest('.output');\n",
       "if (outputEl) {{\n",
       "    x.observe(outputEl, {childList: true});\n",
       "}}\n",
       "\n",
       "                        })                };                });            </script>        </div>"
      ]
     },
     "metadata": {},
     "output_type": "display_data"
    }
   ],
   "source": [
    "from plotly.subplots import make_subplots\n",
    "import plotly.graph_objects as go\n",
    "\n",
    "fig = go.Figure([\n",
    "    # 훈련 데이터-------------------------------------------------------\n",
    "    go.Scatter(x = y_train.index, y = y_train, name = \"Train\", mode = 'lines'\n",
    "              ,line=dict(color = 'royalblue'))\n",
    "    # 테스트 데이터------------------------------------------------------\n",
    "    , go.Scatter(x = y_test.index, y = y_test, name = \"Test\", mode = 'lines'\n",
    "                ,line = dict(color = 'rgba(0,0,30,0.5)'))\n",
    "    # 예측값-----------------------------------------------------------\n",
    "    , go.Scatter(x = y_test.index, y = y_pred, name = \"Prediction\", mode = 'lines'\n",
    "                     ,line = dict(color = 'red', dash = 'dot', width=3))\n",
    "            # 신뢰 구간---------------------------------------------------------\n",
    "    , go.Scatter(x = y_test.index.tolist() + y_test.index[::-1].tolist() \n",
    "                ,y = pred_upper + pred_lower[::-1] ## 상위 신뢰 구간 -> 하위 신뢰 구간 역순으로\n",
    "                ,fill='toself'\n",
    "                ,fillcolor='rgba(0,0,30,0.1)'\n",
    "                ,line=dict(color='rgba(0,0,0,0)')\n",
    "                ,hoverinfo=\"skip\"\n",
    "                ,showlegend=False)\n",
    "])\n",
    "\n",
    "    \n",
    "fig.update_layout(height=400, width=1000, title_text=\"ARIMA(1,1,3)모형\")\n",
    "fig.show()"
   ]
  },
  {
   "cell_type": "code",
   "execution_count": 49,
   "id": "22c83007",
   "metadata": {},
   "outputs": [
    {
     "name": "stdout",
     "output_type": "stream",
     "text": [
      "MAE score: 125796.34136024352\n",
      "RMSE score: 14305.407418350615\n",
      "R-squared score: 0.4908542793893388\n"
     ]
    }
   ],
   "source": [
    "mae = mean_absolute_error(y_pred, y_test)\n",
    "print('MAE score:' , mae)\n",
    "\n",
    "rmse = np.sqrt(np.mean(y_pred - y_test) ** 2)\n",
    "print('RMSE score:' ,rmse)\n",
    "\n",
    "r2 = (r2_score(y_test, y_pred))\n",
    "print('R-squared score:', r2)"
   ]
  },
  {
   "cell_type": "markdown",
   "id": "51fc1323",
   "metadata": {},
   "source": [
    "### 2) LSTM"
   ]
  },
  {
   "cell_type": "code",
   "execution_count": 520,
   "id": "0df4ab55",
   "metadata": {},
   "outputs": [
    {
     "data": {
      "text/plain": [
       "(252, 1)"
      ]
     },
     "execution_count": 520,
     "metadata": {},
     "output_type": "execute_result"
    }
   ],
   "source": [
    "df.shape"
   ]
  },
  {
   "cell_type": "code",
   "execution_count": 521,
   "id": "735ae70c",
   "metadata": {},
   "outputs": [
    {
     "data": {
      "text/plain": [
       "array([[0.033196],\n",
       "       [0.      ],\n",
       "       [0.026688],\n",
       "       [0.104231],\n",
       "       [0.130757],\n",
       "       [0.031308],\n",
       "       [0.091628],\n",
       "       [0.179608],\n",
       "       [0.012988],\n",
       "       [0.070484],\n",
       "       [0.068384],\n",
       "       [0.060116],\n",
       "       [0.053807],\n",
       "       [0.01818 ],\n",
       "       [0.065516],\n",
       "       [0.155681],\n",
       "       [0.125512],\n",
       "       [0.003983],\n",
       "       [0.108017],\n",
       "       [0.225799],\n",
       "       [0.042433],\n",
       "       [0.121392],\n",
       "       [0.102214],\n",
       "       [0.031103],\n",
       "       [0.096129],\n",
       "       [0.039406],\n",
       "       [0.058026],\n",
       "       [0.167146],\n",
       "       [0.193013],\n",
       "       [0.085913],\n",
       "       [0.128767],\n",
       "       [0.261927],\n",
       "       [0.071168],\n",
       "       [0.132787],\n",
       "       [0.089863],\n",
       "       [0.040826],\n",
       "       [0.103067],\n",
       "       [0.067457],\n",
       "       [0.0641  ],\n",
       "       [0.205024],\n",
       "       [0.170064],\n",
       "       [0.073828],\n",
       "       [0.143995],\n",
       "       [0.225795],\n",
       "       [0.063273],\n",
       "       [0.116987],\n",
       "       [0.079236],\n",
       "       [0.066983],\n",
       "       [0.083844],\n",
       "       [0.052615],\n",
       "       [0.065168],\n",
       "       [0.189083],\n",
       "       [0.182472],\n",
       "       [0.112675],\n",
       "       [0.140158],\n",
       "       [0.212848],\n",
       "       [0.075256],\n",
       "       [0.176098],\n",
       "       [0.117536],\n",
       "       [0.040181],\n",
       "       [0.083782],\n",
       "       [0.063317],\n",
       "       [0.104898],\n",
       "       [0.200124],\n",
       "       [0.203237],\n",
       "       [0.123739],\n",
       "       [0.147874],\n",
       "       [0.227401],\n",
       "       [0.102351],\n",
       "       [0.178872],\n",
       "       [0.135463],\n",
       "       [0.104068],\n",
       "       [0.10551 ],\n",
       "       [0.083428],\n",
       "       [0.1184  ],\n",
       "       [0.208184],\n",
       "       [0.224767],\n",
       "       [0.130037],\n",
       "       [0.156614],\n",
       "       [0.247869],\n",
       "       [0.099324],\n",
       "       [0.155435],\n",
       "       [0.136825],\n",
       "       [0.098938],\n",
       "       [0.105692],\n",
       "       [0.112127],\n",
       "       [0.127928],\n",
       "       [0.239237],\n",
       "       [0.266231],\n",
       "       [0.165533],\n",
       "       [0.182777],\n",
       "       [0.27689 ],\n",
       "       [0.123927],\n",
       "       [0.20148 ],\n",
       "       [0.150132],\n",
       "       [0.118246],\n",
       "       [0.134558],\n",
       "       [0.107253],\n",
       "       [0.164559],\n",
       "       [0.288811],\n",
       "       [0.296502],\n",
       "       [0.200659],\n",
       "       [0.261882],\n",
       "       [0.37386 ],\n",
       "       [0.161422],\n",
       "       [0.240169],\n",
       "       [0.193035],\n",
       "       [0.192287],\n",
       "       [0.192547],\n",
       "       [0.191411],\n",
       "       [0.229752],\n",
       "       [0.361287],\n",
       "       [0.374628],\n",
       "       [0.272526],\n",
       "       [0.315203],\n",
       "       [0.402968],\n",
       "       [0.256734],\n",
       "       [0.355146],\n",
       "       [0.280609],\n",
       "       [0.200532],\n",
       "       [0.219647],\n",
       "       [0.232013],\n",
       "       [0.263506],\n",
       "       [0.430274],\n",
       "       [0.460498],\n",
       "       [0.343208],\n",
       "       [0.414657],\n",
       "       [0.494353],\n",
       "       [0.359078],\n",
       "       [0.462078],\n",
       "       [0.357446],\n",
       "       [0.298996],\n",
       "       [0.31641 ],\n",
       "       [0.310354],\n",
       "       [0.335735],\n",
       "       [0.507421],\n",
       "       [0.549288],\n",
       "       [0.454374],\n",
       "       [0.481397],\n",
       "       [0.511926],\n",
       "       [0.379366],\n",
       "       [0.524495],\n",
       "       [0.397673],\n",
       "       [0.305067],\n",
       "       [0.303237],\n",
       "       [0.320461],\n",
       "       [0.353593],\n",
       "       [0.579049],\n",
       "       [0.590018],\n",
       "       [0.53354 ],\n",
       "       [0.616599],\n",
       "       [0.709834],\n",
       "       [0.546705],\n",
       "       [0.581067],\n",
       "       [0.452254],\n",
       "       [0.3873  ],\n",
       "       [0.415908],\n",
       "       [0.410896],\n",
       "       [0.488323],\n",
       "       [0.674977],\n",
       "       [0.580531],\n",
       "       [0.624965],\n",
       "       [0.692548],\n",
       "       [0.764181],\n",
       "       [0.643172],\n",
       "       [0.744766],\n",
       "       [0.561489],\n",
       "       [0.476163],\n",
       "       [0.516488],\n",
       "       [0.523675],\n",
       "       [0.572277],\n",
       "       [0.773908],\n",
       "       [0.820309],\n",
       "       [0.523517],\n",
       "       [0.63269 ],\n",
       "       [0.827377],\n",
       "       [0.746447],\n",
       "       [0.884866],\n",
       "       [0.698638],\n",
       "       [0.636879],\n",
       "       [0.610686],\n",
       "       [0.648381],\n",
       "       [0.695662],\n",
       "       [0.858312],\n",
       "       [0.91542 ],\n",
       "       [0.916003],\n",
       "       [0.993292],\n",
       "       [1.      ],\n",
       "       [0.844523],\n",
       "       [0.91866 ],\n",
       "       [0.746532],\n",
       "       [0.708272],\n",
       "       [0.74363 ],\n",
       "       [0.65753 ],\n",
       "       [0.665431],\n",
       "       [0.813243],\n",
       "       [0.805254],\n",
       "       [0.784784],\n",
       "       [0.793504],\n",
       "       [0.819517],\n",
       "       [0.767388],\n",
       "       [0.804625],\n",
       "       [0.692122],\n",
       "       [0.65515 ],\n",
       "       [0.651565],\n",
       "       [0.533226],\n",
       "       [0.66089 ],\n",
       "       [0.813645],\n",
       "       [0.802602],\n",
       "       [0.800081],\n",
       "       [0.75609 ],\n",
       "       [0.788284],\n",
       "       [0.744091],\n",
       "       [0.776792],\n",
       "       [0.691317],\n",
       "       [0.64265 ],\n",
       "       [0.673658],\n",
       "       [0.658115],\n",
       "       [0.70004 ],\n",
       "       [0.803417],\n",
       "       [0.823473],\n",
       "       [0.810551],\n",
       "       [0.81277 ],\n",
       "       [0.899217],\n",
       "       [0.712988],\n",
       "       [0.899882],\n",
       "       [0.823228],\n",
       "       [0.798448],\n",
       "       [0.766178],\n",
       "       [0.284   ],\n",
       "       [0.169097],\n",
       "       [0.216827],\n",
       "       [0.392116],\n",
       "       [0.466095],\n",
       "       [0.566264],\n",
       "       [0.675406],\n",
       "       [0.362293],\n",
       "       [0.632832],\n",
       "       [0.683637],\n",
       "       [0.281719],\n",
       "       [0.159204],\n",
       "       [0.412037],\n",
       "       [0.489309],\n",
       "       [0.636417],\n",
       "       [0.678011],\n",
       "       [0.679886],\n",
       "       [0.674177],\n",
       "       [0.552075],\n",
       "       [0.473064],\n",
       "       [0.744483],\n",
       "       [0.730706],\n",
       "       [0.642429]])"
      ]
     },
     "execution_count": 521,
     "metadata": {},
     "output_type": "execute_result"
    }
   ],
   "source": [
    "data = df.filter(['visitors'])\n",
    "npdataset = data.values\n",
    "\n",
    "training_data_length = math.ceil(len(npdataset) * 0.8)\n",
    "\n",
    "# min max scaler 적용\n",
    "mmscaler = MinMaxScaler(feature_range = (0,1))\n",
    "scaled_data = mmscaler.fit_transform(npdataset)\n",
    "scaled_data"
   ]
  },
  {
   "cell_type": "code",
   "execution_count": 280,
   "id": "abe6c021",
   "metadata": {},
   "outputs": [
    {
     "name": "stdout",
     "output_type": "stream",
     "text": [
      "(102, 100, 1)\n",
      "(102,)\n"
     ]
    }
   ],
   "source": [
    "train_data = scaled_data[0:training_data_length, :]\n",
    "\n",
    "x_train = []\n",
    "y_train = []\n",
    "trainingdatasize = len(train_data)\n",
    "for i in range(100, trainingdatasize):\n",
    "    x_train.append(train_data[i-100: i, 0])\n",
    "    y_train.append(train_data[i,0])\n",
    "    \n",
    "x_train = np.array(x_train)\n",
    "y_train = np.array(y_train)\n",
    "\n",
    "x_train = np.reshape(x_train, (x_train.shape[0], x_train.shape[1], 1))\n",
    "print(x_train.shape)\n",
    "print(y_train.shape)"
   ]
  },
  {
   "cell_type": "code",
   "execution_count": 253,
   "id": "f96e0a59",
   "metadata": {},
   "outputs": [
    {
     "name": "stdout",
     "output_type": "stream",
     "text": [
      "Model: \"sequential\"\n",
      "_________________________________________________________________\n",
      " Layer (type)                Output Shape              Param #   \n",
      "=================================================================\n",
      " lstm (LSTM)                 (None, 100, 100)          40800     \n",
      "                                                                 \n",
      " lstm_1 (LSTM)               (None, 100)               80400     \n",
      "                                                                 \n",
      " dense (Dense)               (None, 25)                2525      \n",
      "                                                                 \n",
      " dense_1 (Dense)             (None, 1)                 26        \n",
      "                                                                 \n",
      "=================================================================\n",
      "Total params: 123,751\n",
      "Trainable params: 123,751\n",
      "Non-trainable params: 0\n",
      "_________________________________________________________________\n"
     ]
    }
   ],
   "source": [
    "K.clear_session()\n",
    "# model 생성\n",
    "model =Sequential()\n",
    "\n",
    "model.add(LSTM(100, return_sequences = True, input_shape = (x_train.shape[1], 1)))\n",
    "model.add(LSTM(100, return_sequences = False))\n",
    "model.add(Dense(25, activation = 'ReLU'))\n",
    "model.add(Dense(1))\n",
    "\n",
    "model.compile(optimizer = 'adam', loss = 'mean_squared_error')\n",
    "\n",
    "model.summary()"
   ]
  },
  {
   "cell_type": "code",
   "execution_count": 268,
   "id": "c1817fcc",
   "metadata": {},
   "outputs": [
    {
     "name": "stdout",
     "output_type": "stream",
     "text": [
      "Epoch 1/25\n",
      "51/51 [==============================] - 2s 37ms/step - loss: 0.0099\n",
      "Epoch 2/25\n",
      "51/51 [==============================] - 2s 37ms/step - loss: 0.0111\n",
      "Epoch 3/25\n",
      "51/51 [==============================] - 2s 36ms/step - loss: 0.0124\n",
      "Epoch 4/25\n",
      "51/51 [==============================] - 2s 37ms/step - loss: 0.0085\n",
      "Epoch 5/25\n",
      "51/51 [==============================] - 2s 36ms/step - loss: 0.0085\n",
      "Epoch 6/25\n",
      "51/51 [==============================] - 2s 36ms/step - loss: 0.0081\n",
      "Epoch 7/25\n",
      "51/51 [==============================] - 2s 36ms/step - loss: 0.0081\n",
      "Epoch 8/25\n",
      "51/51 [==============================] - 2s 36ms/step - loss: 0.0066\n",
      "Epoch 9/25\n",
      "51/51 [==============================] - 2s 36ms/step - loss: 0.0053\n",
      "Epoch 10/25\n",
      "51/51 [==============================] - 2s 37ms/step - loss: 0.0057\n",
      "Epoch 11/25\n",
      "51/51 [==============================] - 2s 36ms/step - loss: 0.0068\n",
      "Epoch 12/25\n",
      "51/51 [==============================] - 2s 36ms/step - loss: 0.0056\n",
      "Epoch 13/25\n",
      "51/51 [==============================] - 2s 37ms/step - loss: 0.0069\n",
      "Epoch 14/25\n",
      "51/51 [==============================] - 2s 37ms/step - loss: 0.0068\n",
      "Epoch 15/25\n",
      "51/51 [==============================] - 2s 36ms/step - loss: 0.0062\n",
      "Epoch 16/25\n",
      "51/51 [==============================] - 2s 37ms/step - loss: 0.0058\n",
      "Epoch 17/25\n",
      "51/51 [==============================] - 2s 37ms/step - loss: 0.0060\n",
      "Epoch 18/25\n",
      "51/51 [==============================] - 2s 37ms/step - loss: 0.0078\n",
      "Epoch 19/25\n",
      "51/51 [==============================] - 2s 37ms/step - loss: 0.0060\n",
      "Epoch 20/25\n",
      "51/51 [==============================] - 2s 37ms/step - loss: 0.0066\n",
      "Epoch 21/25\n",
      "51/51 [==============================] - 2s 37ms/step - loss: 0.0076\n",
      "Epoch 22/25\n",
      "51/51 [==============================] - 2s 37ms/step - loss: 0.0056\n",
      "Epoch 23/25\n",
      "51/51 [==============================] - 2s 37ms/step - loss: 0.0060\n",
      "Epoch 24/25\n",
      "51/51 [==============================] - 2s 37ms/step - loss: 0.0059\n",
      "Epoch 25/25\n",
      "51/51 [==============================] - 2s 37ms/step - loss: 0.0075\n"
     ]
    }
   ],
   "source": [
    "history = model.fit(x_train, y_train, batch_size =2 , epochs = 25)"
   ]
  },
  {
   "cell_type": "code",
   "execution_count": 269,
   "id": "1c2263fb",
   "metadata": {},
   "outputs": [],
   "source": [
    "test_data = scaled_data[training_data_length - 100:, :]\n",
    "\n",
    "x_test = []\n",
    "y_test = npdataset[training_data_length:, :]\n",
    "\n",
    "for i in range(100, len(test_data)):\n",
    "    x_test.append(test_data[i-100:i, 0])\n",
    "\n",
    "x_test = np.array(x_test)\n",
    "x_test = np.reshape(x_test, (x_test.shape[0], x_test.shape[1], 1))"
   ]
  },
  {
   "cell_type": "code",
   "execution_count": 270,
   "id": "f80f2866",
   "metadata": {},
   "outputs": [
    {
     "name": "stdout",
     "output_type": "stream",
     "text": [
      "2/2 [==============================] - 0s 18ms/step\n"
     ]
    }
   ],
   "source": [
    "y_pred = model.predict(x_test)\n",
    "y_pred = mmscaler.inverse_transform(y_pred)"
   ]
  },
  {
   "cell_type": "code",
   "execution_count": 271,
   "id": "c5eb1d0c",
   "metadata": {
    "scrolled": true
   },
   "outputs": [
    {
     "name": "stdout",
     "output_type": "stream",
     "text": [
      "MAE score:153747.2\n",
      "RMSE score:101409.0\n",
      "r2 score : 0.16209275490289277\n"
     ]
    }
   ],
   "source": [
    "mae = mean_absolute_error(y_pred, y_test)\n",
    "print('MAE score:' ,mae)\n",
    "\n",
    "rmse = np.sqrt(np.mean(y_pred - y_test) ** 2)\n",
    "print('RMSE score:' , rmse)\n",
    "\n",
    "r2 = (r2_score(y_test, y_pred))\n",
    "\n",
    "print('r2 score :', r2)"
   ]
  },
  {
   "cell_type": "code",
   "execution_count": 272,
   "id": "9ba5eba2",
   "metadata": {
    "scrolled": false
   },
   "outputs": [
    {
     "data": {
      "text/plain": [
       "<matplotlib.legend.Legend at 0x20344d85f40>"
      ]
     },
     "execution_count": 272,
     "metadata": {},
     "output_type": "execute_result"
    },
    {
     "data": {
      "image/png": "[encoded data removed]",
      "text/plain": [
       "<Figure size 432x288 with 1 Axes>"
      ]
     },
     "metadata": {
      "needs_background": "light"
     },
     "output_type": "display_data"
    }
   ],
   "source": [
    "plt.plot(y_pred, 'r', label = 'predicted')\n",
    "plt.plot(y_test, 'b', label = 'test')\n",
    "plt.legend()"
   ]
  },
  {
   "cell_type": "markdown",
   "id": "07be120a",
   "metadata": {},
   "source": [
    "### 3) Prophet"
   ]
  },
  {
   "cell_type": "code",
   "execution_count": 206,
   "id": "1fbe7743",
   "metadata": {},
   "outputs": [
    {
     "data": {
      "text/html": [
       "<div>\n",
       "<style scoped>\n",
       "    .dataframe tbody tr th:only-of-type {\n",
       "        vertical-align: middle;\n",
       "    }\n",
       "\n",
       "    .dataframe tbody tr th {\n",
       "        vertical-align: top;\n",
       "    }\n",
       "\n",
       "    .dataframe thead th {\n",
       "        text-align: right;\n",
       "    }\n",
       "</style>\n",
       "<table border=\"1\" class=\"dataframe\">\n",
       "  <thead>\n",
       "    <tr style=\"text-align: right;\">\n",
       "      <th></th>\n",
       "      <th>visitors</th>\n",
       "    </tr>\n",
       "  </thead>\n",
       "  <tbody>\n",
       "    <tr>\n",
       "      <th>0</th>\n",
       "      <td>305666</td>\n",
       "    </tr>\n",
       "    <tr>\n",
       "      <th>1</th>\n",
       "      <td>262896</td>\n",
       "    </tr>\n",
       "    <tr>\n",
       "      <th>2</th>\n",
       "      <td>297281</td>\n",
       "    </tr>\n",
       "    <tr>\n",
       "      <th>3</th>\n",
       "      <td>397188</td>\n",
       "    </tr>\n",
       "    <tr>\n",
       "      <th>4</th>\n",
       "      <td>431365</td>\n",
       "    </tr>\n",
       "    <tr>\n",
       "      <th>...</th>\n",
       "      <td>...</td>\n",
       "    </tr>\n",
       "    <tr>\n",
       "      <th>247</th>\n",
       "      <td>974194</td>\n",
       "    </tr>\n",
       "    <tr>\n",
       "      <th>248</th>\n",
       "      <td>872396</td>\n",
       "    </tr>\n",
       "    <tr>\n",
       "      <th>249</th>\n",
       "      <td>1222094</td>\n",
       "    </tr>\n",
       "    <tr>\n",
       "      <th>250</th>\n",
       "      <td>1204344</td>\n",
       "    </tr>\n",
       "    <tr>\n",
       "      <th>251</th>\n",
       "      <td>1090607</td>\n",
       "    </tr>\n",
       "  </tbody>\n",
       "</table>\n",
       "<p>252 rows × 1 columns</p>\n",
       "</div>"
      ],
      "text/plain": [
       "     visitors\n",
       "0      305666\n",
       "1      262896\n",
       "2      297281\n",
       "3      397188\n",
       "4      431365\n",
       "..        ...\n",
       "247    974194\n",
       "248    872396\n",
       "249   1222094\n",
       "250   1204344\n",
       "251   1090607\n",
       "\n",
       "[252 rows x 1 columns]"
      ]
     },
     "execution_count": 206,
     "metadata": {},
     "output_type": "execute_result"
    }
   ],
   "source": [
    "from prophet import Prophet\n",
    "\n",
    "df = pd.read_csv('visitors.csv', encoding = 'utf-8')\n",
    "df"
   ]
  },
  {
   "cell_type": "code",
   "execution_count": 207,
   "id": "1ccc1d6d",
   "metadata": {},
   "outputs": [
    {
     "data": {
      "text/plain": [
       "DatetimeIndex(['2001-01-01', '2001-02-01', '2001-03-01', '2001-04-01',\n",
       "               '2001-05-01', '2001-06-01', '2001-07-01', '2001-08-01',\n",
       "               '2001-09-01', '2001-10-01',\n",
       "               ...\n",
       "               '2021-03-01', '2021-04-01', '2021-05-01', '2021-06-01',\n",
       "               '2021-07-01', '2021-08-01', '2021-09-01', '2021-10-01',\n",
       "               '2021-11-01', '2021-12-01'],\n",
       "              dtype='datetime64[ns]', length=252, freq='MS')"
      ]
     },
     "execution_count": 207,
     "metadata": {},
     "output_type": "execute_result"
    }
   ],
   "source": [
    "series_ts  = pd.date_range(\"2001-1\", \"2021-12\", freq=\"MS\")\n",
    "series_ts"
   ]
  },
  {
   "cell_type": "code",
   "execution_count": 208,
   "id": "aec1d993",
   "metadata": {},
   "outputs": [],
   "source": [
    "df.insert(0, 'Date', series_ts)"
   ]
  },
  {
   "cell_type": "code",
   "execution_count": 209,
   "id": "808c5b5c",
   "metadata": {},
   "outputs": [],
   "source": [
    "df.columns = ['ds','y']"
   ]
  },
  {
   "cell_type": "code",
   "execution_count": 210,
   "id": "6c879f8b",
   "metadata": {},
   "outputs": [
    {
     "data": {
      "text/html": [
       "<div>\n",
       "<style scoped>\n",
       "    .dataframe tbody tr th:only-of-type {\n",
       "        vertical-align: middle;\n",
       "    }\n",
       "\n",
       "    .dataframe tbody tr th {\n",
       "        vertical-align: top;\n",
       "    }\n",
       "\n",
       "    .dataframe thead th {\n",
       "        text-align: right;\n",
       "    }\n",
       "</style>\n",
       "<table border=\"1\" class=\"dataframe\">\n",
       "  <thead>\n",
       "    <tr style=\"text-align: right;\">\n",
       "      <th></th>\n",
       "      <th>ds</th>\n",
       "      <th>y</th>\n",
       "    </tr>\n",
       "  </thead>\n",
       "  <tbody>\n",
       "    <tr>\n",
       "      <th>0</th>\n",
       "      <td>2001-01-01</td>\n",
       "      <td>305666</td>\n",
       "    </tr>\n",
       "    <tr>\n",
       "      <th>1</th>\n",
       "      <td>2001-02-01</td>\n",
       "      <td>262896</td>\n",
       "    </tr>\n",
       "    <tr>\n",
       "      <th>2</th>\n",
       "      <td>2001-03-01</td>\n",
       "      <td>297281</td>\n",
       "    </tr>\n",
       "    <tr>\n",
       "      <th>3</th>\n",
       "      <td>2001-04-01</td>\n",
       "      <td>397188</td>\n",
       "    </tr>\n",
       "    <tr>\n",
       "      <th>4</th>\n",
       "      <td>2001-05-01</td>\n",
       "      <td>431365</td>\n",
       "    </tr>\n",
       "    <tr>\n",
       "      <th>...</th>\n",
       "      <td>...</td>\n",
       "      <td>...</td>\n",
       "    </tr>\n",
       "    <tr>\n",
       "      <th>247</th>\n",
       "      <td>2021-08-01</td>\n",
       "      <td>974194</td>\n",
       "    </tr>\n",
       "    <tr>\n",
       "      <th>248</th>\n",
       "      <td>2021-09-01</td>\n",
       "      <td>872396</td>\n",
       "    </tr>\n",
       "    <tr>\n",
       "      <th>249</th>\n",
       "      <td>2021-10-01</td>\n",
       "      <td>1222094</td>\n",
       "    </tr>\n",
       "    <tr>\n",
       "      <th>250</th>\n",
       "      <td>2021-11-01</td>\n",
       "      <td>1204344</td>\n",
       "    </tr>\n",
       "    <tr>\n",
       "      <th>251</th>\n",
       "      <td>2021-12-01</td>\n",
       "      <td>1090607</td>\n",
       "    </tr>\n",
       "  </tbody>\n",
       "</table>\n",
       "<p>252 rows × 2 columns</p>\n",
       "</div>"
      ],
      "text/plain": [
       "            ds        y\n",
       "0   2001-01-01   305666\n",
       "1   2001-02-01   262896\n",
       "2   2001-03-01   297281\n",
       "3   2001-04-01   397188\n",
       "4   2001-05-01   431365\n",
       "..         ...      ...\n",
       "247 2021-08-01   974194\n",
       "248 2021-09-01   872396\n",
       "249 2021-10-01  1222094\n",
       "250 2021-11-01  1204344\n",
       "251 2021-12-01  1090607\n",
       "\n",
       "[252 rows x 2 columns]"
      ]
     },
     "execution_count": 210,
     "metadata": {},
     "output_type": "execute_result"
    }
   ],
   "source": [
    "df"
   ]
  },
  {
   "cell_type": "code",
   "execution_count": 211,
   "id": "16e76320",
   "metadata": {
    "scrolled": true
   },
   "outputs": [
    {
     "name": "stderr",
     "output_type": "stream",
     "text": [
      "INFO:prophet:Disabling weekly seasonality. Run prophet with weekly_seasonality=True to override this.\n",
      "INFO:prophet:Disabling daily seasonality. Run prophet with daily_seasonality=True to override this.\n",
      "C:\\ProgramData\\Anaconda3\\lib\\site-packages\\prophet\\forecaster.py:896: FutureWarning:\n",
      "\n",
      "The frame.append method is deprecated and will be removed from pandas in a future version. Use pandas.concat instead.\n",
      "\n"
     ]
    },
    {
     "data": {
      "text/plain": [
       "<prophet.forecaster.Prophet at 0x1a3556bfdc0>"
      ]
     },
     "execution_count": 211,
     "metadata": {},
     "output_type": "execute_result"
    }
   ],
   "source": [
    "m = Prophet()\n",
    "m.fit(df)"
   ]
  },
  {
   "cell_type": "code",
   "execution_count": 213,
   "id": "80498ba2",
   "metadata": {
    "scrolled": true
   },
   "outputs": [
    {
     "data": {
      "text/html": [
       "<div>\n",
       "<style scoped>\n",
       "    .dataframe tbody tr th:only-of-type {\n",
       "        vertical-align: middle;\n",
       "    }\n",
       "\n",
       "    .dataframe tbody tr th {\n",
       "        vertical-align: top;\n",
       "    }\n",
       "\n",
       "    .dataframe thead th {\n",
       "        text-align: right;\n",
       "    }\n",
       "</style>\n",
       "<table border=\"1\" class=\"dataframe\">\n",
       "  <thead>\n",
       "    <tr style=\"text-align: right;\">\n",
       "      <th></th>\n",
       "      <th>ds</th>\n",
       "    </tr>\n",
       "  </thead>\n",
       "  <tbody>\n",
       "    <tr>\n",
       "      <th>0</th>\n",
       "      <td>2001-01-01</td>\n",
       "    </tr>\n",
       "    <tr>\n",
       "      <th>1</th>\n",
       "      <td>2001-02-01</td>\n",
       "    </tr>\n",
       "    <tr>\n",
       "      <th>2</th>\n",
       "      <td>2001-03-01</td>\n",
       "    </tr>\n",
       "    <tr>\n",
       "      <th>3</th>\n",
       "      <td>2001-04-01</td>\n",
       "    </tr>\n",
       "    <tr>\n",
       "      <th>4</th>\n",
       "      <td>2001-05-01</td>\n",
       "    </tr>\n",
       "    <tr>\n",
       "      <th>...</th>\n",
       "      <td>...</td>\n",
       "    </tr>\n",
       "    <tr>\n",
       "      <th>259</th>\n",
       "      <td>2022-08-01</td>\n",
       "    </tr>\n",
       "    <tr>\n",
       "      <th>260</th>\n",
       "      <td>2022-09-01</td>\n",
       "    </tr>\n",
       "    <tr>\n",
       "      <th>261</th>\n",
       "      <td>2022-10-01</td>\n",
       "    </tr>\n",
       "    <tr>\n",
       "      <th>262</th>\n",
       "      <td>2022-11-01</td>\n",
       "    </tr>\n",
       "    <tr>\n",
       "      <th>263</th>\n",
       "      <td>2022-12-01</td>\n",
       "    </tr>\n",
       "  </tbody>\n",
       "</table>\n",
       "<p>264 rows × 1 columns</p>\n",
       "</div>"
      ],
      "text/plain": [
       "            ds\n",
       "0   2001-01-01\n",
       "1   2001-02-01\n",
       "2   2001-03-01\n",
       "3   2001-04-01\n",
       "4   2001-05-01\n",
       "..         ...\n",
       "259 2022-08-01\n",
       "260 2022-09-01\n",
       "261 2022-10-01\n",
       "262 2022-11-01\n",
       "263 2022-12-01\n",
       "\n",
       "[264 rows x 1 columns]"
      ]
     },
     "execution_count": 213,
     "metadata": {},
     "output_type": "execute_result"
    }
   ],
   "source": [
    "future_dates = m.make_future_dataframe(periods=12, freq='MS')\n",
    "future_dates"
   ]
  },
  {
   "cell_type": "code",
   "execution_count": 215,
   "id": "eacc44fc",
   "metadata": {
    "scrolled": true
   },
   "outputs": [
    {
     "name": "stderr",
     "output_type": "stream",
     "text": [
      "C:\\ProgramData\\Anaconda3\\lib\\site-packages\\prophet\\forecaster.py:896: FutureWarning:\n",
      "\n",
      "The frame.append method is deprecated and will be removed from pandas in a future version. Use pandas.concat instead.\n",
      "\n",
      "C:\\ProgramData\\Anaconda3\\lib\\site-packages\\prophet\\forecaster.py:896: FutureWarning:\n",
      "\n",
      "The frame.append method is deprecated and will be removed from pandas in a future version. Use pandas.concat instead.\n",
      "\n"
     ]
    },
    {
     "data": {
      "text/html": [
       "<div>\n",
       "<style scoped>\n",
       "    .dataframe tbody tr th:only-of-type {\n",
       "        vertical-align: middle;\n",
       "    }\n",
       "\n",
       "    .dataframe tbody tr th {\n",
       "        vertical-align: top;\n",
       "    }\n",
       "\n",
       "    .dataframe thead th {\n",
       "        text-align: right;\n",
       "    }\n",
       "</style>\n",
       "<table border=\"1\" class=\"dataframe\">\n",
       "  <thead>\n",
       "    <tr style=\"text-align: right;\">\n",
       "      <th></th>\n",
       "      <th>ds</th>\n",
       "      <th>yhat</th>\n",
       "      <th>yhat_lower</th>\n",
       "      <th>yhat_upper</th>\n",
       "    </tr>\n",
       "  </thead>\n",
       "  <tbody>\n",
       "    <tr>\n",
       "      <th>0</th>\n",
       "      <td>2001-01-01</td>\n",
       "      <td>2.250339e+05</td>\n",
       "      <td>96359.279099</td>\n",
       "      <td>3.642641e+05</td>\n",
       "    </tr>\n",
       "    <tr>\n",
       "      <th>1</th>\n",
       "      <td>2001-02-01</td>\n",
       "      <td>2.421206e+05</td>\n",
       "      <td>108476.430812</td>\n",
       "      <td>3.672912e+05</td>\n",
       "    </tr>\n",
       "    <tr>\n",
       "      <th>2</th>\n",
       "      <td>2001-03-01</td>\n",
       "      <td>2.362304e+05</td>\n",
       "      <td>102721.316410</td>\n",
       "      <td>3.639259e+05</td>\n",
       "    </tr>\n",
       "    <tr>\n",
       "      <th>3</th>\n",
       "      <td>2001-04-01</td>\n",
       "      <td>4.049368e+05</td>\n",
       "      <td>263142.740034</td>\n",
       "      <td>5.376733e+05</td>\n",
       "    </tr>\n",
       "    <tr>\n",
       "      <th>4</th>\n",
       "      <td>2001-05-01</td>\n",
       "      <td>4.302371e+05</td>\n",
       "      <td>294911.406747</td>\n",
       "      <td>5.682039e+05</td>\n",
       "    </tr>\n",
       "    <tr>\n",
       "      <th>...</th>\n",
       "      <td>...</td>\n",
       "      <td>...</td>\n",
       "      <td>...</td>\n",
       "      <td>...</td>\n",
       "    </tr>\n",
       "    <tr>\n",
       "      <th>259</th>\n",
       "      <td>2022-08-01</td>\n",
       "      <td>1.108529e+06</td>\n",
       "      <td>982421.996575</td>\n",
       "      <td>1.254966e+06</td>\n",
       "    </tr>\n",
       "    <tr>\n",
       "      <th>260</th>\n",
       "      <td>2022-09-01</td>\n",
       "      <td>9.170627e+05</td>\n",
       "      <td>796934.587203</td>\n",
       "      <td>1.053834e+06</td>\n",
       "    </tr>\n",
       "    <tr>\n",
       "      <th>261</th>\n",
       "      <td>2022-10-01</td>\n",
       "      <td>1.035510e+06</td>\n",
       "      <td>906542.820505</td>\n",
       "      <td>1.171648e+06</td>\n",
       "    </tr>\n",
       "    <tr>\n",
       "      <th>262</th>\n",
       "      <td>2022-11-01</td>\n",
       "      <td>9.274552e+05</td>\n",
       "      <td>792684.452305</td>\n",
       "      <td>1.058322e+06</td>\n",
       "    </tr>\n",
       "    <tr>\n",
       "      <th>263</th>\n",
       "      <td>2022-12-01</td>\n",
       "      <td>8.435910e+05</td>\n",
       "      <td>706666.558954</td>\n",
       "      <td>9.827893e+05</td>\n",
       "    </tr>\n",
       "  </tbody>\n",
       "</table>\n",
       "<p>264 rows × 4 columns</p>\n",
       "</div>"
      ],
      "text/plain": [
       "            ds          yhat     yhat_lower    yhat_upper\n",
       "0   2001-01-01  2.250339e+05   96359.279099  3.642641e+05\n",
       "1   2001-02-01  2.421206e+05  108476.430812  3.672912e+05\n",
       "2   2001-03-01  2.362304e+05  102721.316410  3.639259e+05\n",
       "3   2001-04-01  4.049368e+05  263142.740034  5.376733e+05\n",
       "4   2001-05-01  4.302371e+05  294911.406747  5.682039e+05\n",
       "..         ...           ...            ...           ...\n",
       "259 2022-08-01  1.108529e+06  982421.996575  1.254966e+06\n",
       "260 2022-09-01  9.170627e+05  796934.587203  1.053834e+06\n",
       "261 2022-10-01  1.035510e+06  906542.820505  1.171648e+06\n",
       "262 2022-11-01  9.274552e+05  792684.452305  1.058322e+06\n",
       "263 2022-12-01  8.435910e+05  706666.558954  9.827893e+05\n",
       "\n",
       "[264 rows x 4 columns]"
      ]
     },
     "execution_count": 215,
     "metadata": {},
     "output_type": "execute_result"
    }
   ],
   "source": [
    "# 예측값 생성\n",
    "forecast = m.predict(future_dates)\n",
    "\n",
    "# 모델 피팅값 확인\n",
    "forecast[['ds', 'yhat', 'yhat_lower', 'yhat_upper']]"
   ]
  },
  {
   "cell_type": "code",
   "execution_count": 216,
   "id": "ade670c3",
   "metadata": {},
   "outputs": [
    {
     "data": {
      "image/png": "[encoded data removed]",
      "text/plain": [
       "<Figure size 720x432 with 1 Axes>"
      ]
     },
     "metadata": {},
     "output_type": "display_data"
    }
   ],
   "source": [
    "m.plot(forecast)\n",
    "plt.show()\n"
   ]
  },
  {
   "cell_type": "code",
   "execution_count": 243,
   "id": "f377934e",
   "metadata": {},
   "outputs": [
    {
     "name": "stdout",
     "output_type": "stream",
     "text": [
      "MAE score: 68056.52006540495\n",
      "RMSE score: 985.3602636473214\n",
      "r2 score : 0.9125761144289248\n"
     ]
    }
   ],
   "source": [
    "# 모델 예측 정확도 평가 \n",
    "y_true = df['y'][0:251].values\n",
    "y_pred = forecast['yhat'][0:251].values\n",
    "\n",
    "mae = mean_absolute_error(y_true, y_pred)\n",
    "print('MAE score:' ,mae)\n",
    "\n",
    "rmse = np.sqrt(np.mean(y_pred - y_true) ** 2)\n",
    "print('RMSE score:' , rmse)\n",
    "\n",
    "r2 = (r2_score(y_true, y_pred))\n",
    "\n",
    "print('r2 score :', r2)"
   ]
  },
  {
   "cell_type": "markdown",
   "id": "faf00817",
   "metadata": {},
   "source": [
    "# 4. Conclusion"
   ]
  },
  {
   "cell_type": "markdown",
   "id": "d3b99345",
   "metadata": {},
   "source": [
    "### ARIMA평가 점수\n",
    "##### MAE score: 125796.34\n",
    "##### RMSE score: 14305.41\n",
    "##### r2 score : 0.490"
   ]
  },
  {
   "cell_type": "markdown",
   "id": "b64c8391",
   "metadata": {},
   "source": [
    "### LSTM 평가 점수\n",
    "##### MAE score: 153747.2\n",
    "##### RMSE score: 101409.0\n",
    "##### r2 score : 0.162\n"
   ]
  },
  {
   "cell_type": "markdown",
   "id": "fa8fb2c5",
   "metadata": {},
   "source": [
    "### Prophet 평가 점수\n",
    "##### MAE score: 68056.52\n",
    "##### RMSE score: 985.36\n",
    "##### r2 score : 0.913"
   ]
  }
 ],
 "metadata": {
  "kernelspec": {
   "display_name": "Python 3 (ipykernel)",
   "language": "python",
   "name": "python3"
  },
  "language_info": {
   "codemirror_mode": {
    "name": "ipython",
    "version": 3
   },
   "file_extension": ".py",
   "mimetype": "text/x-python",
   "name": "python",
   "nbconvert_exporter": "python",
   "pygments_lexer": "ipython3",
   "version": "3.9.12"
  }
 },
 "nbformat": 4,
 "nbformat_minor": 5
}
